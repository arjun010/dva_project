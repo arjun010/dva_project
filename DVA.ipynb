{
 "metadata": {
  "name": "",
  "signature": "sha256:f34ac66d05f0a45fa3fe4b591eb2e926c9b268af9427bcc37da75b862c4432f5"
 },
 "nbformat": 3,
 "nbformat_minor": 0,
 "worksheets": [
  {
   "cells": [
    {
     "cell_type": "code",
     "collapsed": false,
     "input": [
      "%matplotlib inline"
     ],
     "language": "python",
     "metadata": {},
     "outputs": [],
     "prompt_number": 2
    },
    {
     "cell_type": "code",
     "collapsed": false,
     "input": [
      "import datetime as dt\n",
      "import numpy as np\n",
      "import csv\n",
      "\n",
      "\n",
      "from sklearn.linear_model import LogisticRegression,LinearRegression\n",
      "from sklearn import cross_validation\n",
      "\n",
      "zips = {'94107':\"SF\", '94063':'Red', '94301': 'Palo Alto', '94041': 'MV', '95113' : 'SJ'}\n",
      "\n",
      "def getDate(date, format=\"%m/%d/%Y %H:%M\"):\n",
      "\treturn dt.datetime.strptime(date, format).strftime(\"%Y-%m-%d\")  #\"4/8/2015 14:13\"\n",
      "\n",
      "stations = {}\n",
      "with open('201402_station_data.csv', 'rb') as csvfile:\n",
      "\treader = csv.DictReader(csvfile, delimiter=',')\n",
      "\tfor row in reader:\n",
      "\t\tstations[row['name']] = row\n",
      "\n",
      "weather = {'94107':{}, '94063':{}, '94301': {}, '94041': {}, '95113' : {}}\n",
      "with open('201402_weather_data.csv', 'rb') as csvfile:\n",
      "\treader = csv.DictReader(csvfile, delimiter=',')\n",
      "\tfor row in reader:\n",
      "\t\tdate = getDate(row['Date'], \"%m/%d/%Y\")\n",
      "\t\tweather[row['zip']][date] = row\n",
      "\n",
      "print len(weather['94107'])\n",
      "# raw_input()\n",
      "\n",
      "trips = {'94107':{}, '94063':{}, '94301': {}, '94041': {}, '95113' : {}}\n",
      "trips = {}\n",
      "twoDays = {}\n",
      "with open('201402_trip_data.csv', 'rb') as csvfile:\n",
      "\treader = csv.DictReader(csvfile, delimiter=',')\n",
      "\tfor row in reader:\n",
      "\t\tif getDate(row['Start Date']) != getDate(row['End Date']):\n",
      "\t\t\ttwoDays[row['Trip ID']] = row\n",
      "\t\telse:\n",
      "\t\t\ttrips[row['Trip ID']] = row\n",
      "\n",
      "print len(twoDays), len(trips)\n",
      "# raw_input()\n",
      "\n",
      "sumTrips = {'94107':{}, '94063':{}, '94301': {}, '94041': {}, '95113' : {}}\n",
      "for values in trips.itervalues():\n",
      "\tzipcode = stations[values['Start Station']]['zip']\n",
      "\tstdate = getDate(values['Start Date'])\n",
      "\t# print stdate.date()\n",
      "\t# raw_input()\n",
      "\tif stdate not in sumTrips[zipcode]:\n",
      "\t\tsumTrips[zipcode][stdate] = 1\n",
      "\telse:\n",
      "\t\tsumTrips[zipcode][stdate] += 1\n",
      "\n",
      "print len(sumTrips['94107'])\n",
      "\n"
     ],
     "language": "python",
     "metadata": {},
     "outputs": [
      {
       "output_type": "stream",
       "stream": "stdout",
       "text": [
        "184\n",
        "593"
       ]
      },
      {
       "output_type": "stream",
       "stream": "stdout",
       "text": [
        " 143422\n",
        "184"
       ]
      },
      {
       "output_type": "stream",
       "stream": "stdout",
       "text": [
        "\n"
       ]
      }
     ],
     "prompt_number": 3
    },
    {
     "cell_type": "code",
     "collapsed": false,
     "input": [
      "def getDay(date, format='%Y-%m-%d'):\n",
      "    return dt.datetime.strptime(date, format).weekday()\n",
      "\n",
      "def isWeekend(date):\n",
      "    day = getDay(date)\n",
      "    if day>4:\n",
      "        return 1\n",
      "    else:\n",
      "        return 0\n",
      "\n",
      "\n",
      "def getWeatherList(d):\n",
      "    l = []\n",
      "    # 'Cloud_Cover ', 'Mean_Wind_Speed_MPH ', 'Mean_Visibility_Miles '\n",
      "    features = ['Mean_Temperature_F', 'Mean_Humidity ', ]\n",
      "    features = [\"Max_Temperature_F\",\"Mean_Temperature_F\",\"Min_TemperatureF\",\"Max_Dew_Point_F\",\"MeanDew_Point_F\",\"Min_Dewpoint_F\",\"Max_Humidity\",\"Mean_Humidity \",\"Min_Humidity \",\"Max_Sea_Level_Pressure_In \",\"Mean_Sea_Level_Pressure_In \",\"Min_Sea_Level_Pressure_In \",\"Max_Visibility_Miles \",\"Mean_Visibility_Miles \",\"Min_Visibility_Miles \",\"Max_Wind_Speed_MPH \",\"Mean_Wind_Speed_MPH \",\"Max_Gust_Speed_MPH\",\"Precipitation_In \",\"Cloud_Cover \" ]\n",
      "    for f in features:\n",
      "        try:\n",
      "            l.append(float(d[f]))\n",
      "        except:\n",
      "            l.append(float(0))\n",
      "    return l\n",
      "zip_code='94107'\n",
      "def population(zip):\n",
      "    \n",
      "\n",
      "def getFeatures():\n",
      "    x, y = [], []\n",
      "    for date, n in sumTrips[zip_code].iteritems():\n",
      "        features = []\n",
      "        wdic = weather[zip_code][date]\n",
      "        \n",
      "        features.extend(getWeatherList(wdic))\n",
      "        features.append(isWeekend(date))\n",
      "        features.append(population(zip_code))\n",
      "#         features.append(float(stations[t['Start Station']]['station_id']))\n",
      "#         features.append(float(stations[t['End Station']]['station_id']))\n",
      "        x.append(features)\n",
      "        y.append(n)\n",
      "    return np.array(x), np.array(y)"
     ],
     "language": "python",
     "metadata": {},
     "outputs": [],
     "prompt_number": 3
    },
    {
     "cell_type": "code",
     "collapsed": false,
     "input": [
      "\n",
      "\n",
      "\n",
      "\n",
      "x, y = getFeatures()\n",
      "print x.shape, y.shape\n",
      "# print x, y\n",
      "s = cross_validation.cross_val_score(LinearRegression(), x, y, cv=10)\n",
      "print s\n",
      "print np.mean(s)"
     ],
     "language": "python",
     "metadata": {},
     "outputs": [
      {
       "output_type": "stream",
       "stream": "stdout",
       "text": [
        "(184, 21) (184,)\n",
        "[-0.22555866  0.60727297  0.76295312  0.74238643  0.34861557  0.57392323\n",
        "  0.53136089  0.48489747  0.59419428  0.51846087]\n",
        "0.493850617505\n"
       ]
      }
     ],
     "prompt_number": 4
    },
    {
     "cell_type": "code",
     "collapsed": false,
     "input": [
      "dates = sumTrips['95113'].keys()\n",
      "zl = zips.keys()\n",
      "# for d in dates:\n",
      "#     for z in zl:\n",
      "#         print weather[z][d]\n",
      "#     raw_input()"
     ],
     "language": "python",
     "metadata": {},
     "outputs": []
    },
    {
     "cell_type": "markdown",
     "metadata": {},
     "source": [
      "Average usage of bikes in each zip code, for every day of the week, starting from Monday to Sunday. Weekend is usage is clearly lower in SJ, SF and MV"
     ]
    },
    {
     "cell_type": "code",
     "collapsed": false,
     "input": [
      "sortedDates = sorted(sumTrips['95113'].keys(), key=lambda x: dt.datetime.strptime(x,'%Y-%m-%d'))\n",
      "\n",
      "for z in zl:\n",
      "    print \"\\n\\nZip -\", z, zips[z]\n",
      "    arr = [[],[],[],[],[],[],[]]\n",
      "    for i in sortedDates:\n",
      "        day = getDay(i,'%Y-%m-%d')\n",
      "        tripsByArea = sumTrips[z]\n",
      "        if i in tripsByArea:\n",
      "            arr[day].append(tripsByArea[i])\n",
      "    for a in arr:\n",
      "        print np.mean(a), '\\t',"
     ],
     "language": "python",
     "metadata": {},
     "outputs": []
    },
    {
     "cell_type": "code",
     "collapsed": false,
     "input": [
      "from sklearn import svm\n",
      "from sklearn.ensemble import RandomForestRegressor\n",
      "from sklearn.svm import SVR\n",
      "estimator = RandomForestRegressor(random_state=None, n_estimators=100)\n",
      "# esitmator = SVR(kernel='rbf', C=1e3, gamma=0.1)\n",
      "# estimator = SVR(kernel='linear', C=1e3)\n",
      "# estimator = SVR(kernel='poly', C=1e3, degree=2)\n",
      "# s = cross_validation.cross_val_score(estimator, x, y, cv=10)\n",
      "# print s\n",
      "# print np.mean(s)"
     ],
     "language": "python",
     "metadata": {},
     "outputs": [],
     "prompt_number": 5
    },
    {
     "cell_type": "code",
     "collapsed": false,
     "input": [
      "from sklearn.cross_validation import train_test_split\n",
      "estimator = RandomForestRegressor(random_state=None, n_estimators=100)\n",
      "x_train, x_test, y_train, y_test = train_test_split(x, y, test_size=0.1, random_state=None)\n",
      "estimator.fit(x_train, y_train)\n",
      "print \"Training Score \", estimator.score(x_train, y_train)\n",
      "print \"Test score \", estimator.score(x_test, y_test)"
     ],
     "language": "python",
     "metadata": {},
     "outputs": [
      {
       "output_type": "stream",
       "stream": "stdout",
       "text": [
        "Training Score  0.963222784117\n",
        "Test score  0.658201531789\n"
       ]
      }
     ],
     "prompt_number": 6
    },
    {
     "cell_type": "code",
     "collapsed": false,
     "input": [
      "def rmsele(actual, pred):\n",
      "    \"\"\"\n",
      "    Given a column of predictions and a column of actuals, calculate the RMSELE\n",
      "    \"\"\"\n",
      "    squared_errors = (np.log(pred + 1) - np.log(actual + 1)) ** 2\n",
      "    mean_squared = np.sum(squared_errors) / len(squared_errors)\n",
      "    return np.sqrt(mean_squared)\n",
      "\n",
      "from sklearn.grid_search import GridSearchCV\n",
      "from sklearn.metrics import make_scorer\n",
      "# This helper function will make a callable that we can use in cross_val_score\n",
      "rmsele_scorer = make_scorer(rmsele, greater_is_better=False)\n",
      "\n",
      "#Parameter Optimisation with grid search\n",
      "tuned_parameters = [{'max_features': ['sqrt', 'log2', 'auto'], 'max_depth': [5, 8, 12], 'min_samples_leaf': [2, 5, 10]}]\n",
      "rf =  GridSearchCV(RandomForestRegressor(n_jobs=1, n_estimators=1000), tuned_parameters, cv=10, verbose=2, scoring=rmsele_scorer).fit(x_train, y_train)"
     ],
     "language": "python",
     "metadata": {},
     "outputs": [
      {
       "output_type": "stream",
       "stream": "stdout",
       "text": [
        "Fitting 10 folds for each of 27 candidates, totalling 270 fits\n",
        "[CV] max_features=sqrt, max_depth=5, min_samples_leaf=2 ..............\n",
        "[CV] ..... max_features=sqrt, max_depth=5, min_samples_leaf=2 -   2.9s"
       ]
      },
      {
       "output_type": "stream",
       "stream": "stdout",
       "text": [
        "\n",
        "[CV] max_features=sqrt, max_depth=5, min_samples_leaf=2 ..............\n",
        "[CV] ..... max_features=sqrt, max_depth=5, min_samples_leaf=2 -   3.5s"
       ]
      },
      {
       "output_type": "stream",
       "stream": "stdout",
       "text": [
        "\n",
        "[CV] max_features=sqrt, max_depth=5, min_samples_leaf=2 ..............\n",
        "[CV] ..... max_features=sqrt, max_depth=5, min_samples_leaf=2 -   3.3s"
       ]
      },
      {
       "output_type": "stream",
       "stream": "stdout",
       "text": [
        "\n",
        "[CV] max_features=sqrt, max_depth=5, min_samples_leaf=2 ..............\n",
        "[CV] ..... max_features=sqrt, max_depth=5, min_samples_leaf=2 -   3.6s"
       ]
      },
      {
       "output_type": "stream",
       "stream": "stdout",
       "text": [
        "\n",
        "[CV] max_features=sqrt, max_depth=5, min_samples_leaf=2 ..............\n",
        "[CV] ..... max_features=sqrt, max_depth=5, min_samples_leaf=2 -   3.5s"
       ]
      },
      {
       "output_type": "stream",
       "stream": "stdout",
       "text": [
        "\n",
        "[CV] max_features=sqrt, max_depth=5, min_samples_leaf=2 ..............\n",
        "[CV] ..... max_features=sqrt, max_depth=5, min_samples_leaf=2 -   3.1s"
       ]
      },
      {
       "output_type": "stream",
       "stream": "stdout",
       "text": [
        "\n",
        "[CV] max_features=sqrt, max_depth=5, min_samples_leaf=2 ..............\n",
        "[CV] ..... max_features=sqrt, max_depth=5, min_samples_leaf=2 -   3.2s"
       ]
      },
      {
       "output_type": "stream",
       "stream": "stdout",
       "text": [
        "\n",
        "[CV] max_features=sqrt, max_depth=5, min_samples_leaf=2 ..............\n",
        "[CV] ..... max_features=sqrt, max_depth=5, min_samples_leaf=2 -   3.4s"
       ]
      },
      {
       "output_type": "stream",
       "stream": "stdout",
       "text": [
        "\n",
        "[CV] max_features=sqrt, max_depth=5, min_samples_leaf=2 ..............\n",
        "[CV] ..... max_features=sqrt, max_depth=5, min_samples_leaf=2 -   3.0s"
       ]
      },
      {
       "output_type": "stream",
       "stream": "stdout",
       "text": [
        "\n",
        "[CV] max_features=sqrt, max_depth=5, min_samples_leaf=2 ..............\n",
        "[CV] ..... max_features=sqrt, max_depth=5, min_samples_leaf=2 -   3.1s"
       ]
      },
      {
       "output_type": "stream",
       "stream": "stdout",
       "text": [
        "\n",
        "[CV] max_features=sqrt, max_depth=5, min_samples_leaf=5 ..............\n",
        "[CV] ..... max_features=sqrt, max_depth=5, min_samples_leaf=5 -   3.0s"
       ]
      },
      {
       "output_type": "stream",
       "stream": "stdout",
       "text": [
        "\n",
        "[CV] max_features=sqrt, max_depth=5, min_samples_leaf=5 ..............\n",
        "[CV] ..... max_features=sqrt, max_depth=5, min_samples_leaf=5 -   3.0s"
       ]
      },
      {
       "output_type": "stream",
       "stream": "stdout",
       "text": [
        "\n",
        "[CV] max_features=sqrt, max_depth=5, min_samples_leaf=5 ..............\n",
        "[CV] ..... max_features=sqrt, max_depth=5, min_samples_leaf=5 -   3.0s"
       ]
      },
      {
       "output_type": "stream",
       "stream": "stdout",
       "text": [
        "\n",
        "[CV] max_features=sqrt, max_depth=5, min_samples_leaf=5 ..............\n",
        "[CV] ..... max_features=sqrt, max_depth=5, min_samples_leaf=5 -   3.1s"
       ]
      },
      {
       "output_type": "stream",
       "stream": "stdout",
       "text": [
        "\n",
        "[CV] max_features=sqrt, max_depth=5, min_samples_leaf=5 ..............\n",
        "[CV] ..... max_features=sqrt, max_depth=5, min_samples_leaf=5 -   3.1s"
       ]
      },
      {
       "output_type": "stream",
       "stream": "stdout",
       "text": [
        "\n",
        "[CV] max_features=sqrt, max_depth=5, min_samples_leaf=5 ..............\n",
        "[CV] ..... max_features=sqrt, max_depth=5, min_samples_leaf=5 -   3.5s"
       ]
      },
      {
       "output_type": "stream",
       "stream": "stdout",
       "text": [
        "\n",
        "[CV] max_features=sqrt, max_depth=5, min_samples_leaf=5 ..............\n",
        "[CV] ..... max_features=sqrt, max_depth=5, min_samples_leaf=5 -   3.7s"
       ]
      },
      {
       "output_type": "stream",
       "stream": "stdout",
       "text": [
        "\n",
        "[CV] max_features=sqrt, max_depth=5, min_samples_leaf=5 ..............\n",
        "[CV] ..... max_features=sqrt, max_depth=5, min_samples_leaf=5 -   3.4s"
       ]
      },
      {
       "output_type": "stream",
       "stream": "stdout",
       "text": [
        "\n",
        "[CV] max_features=sqrt, max_depth=5, min_samples_leaf=5 ..............\n",
        "[CV] ..... max_features=sqrt, max_depth=5, min_samples_leaf=5 -   3.5s"
       ]
      },
      {
       "output_type": "stream",
       "stream": "stdout",
       "text": [
        "\n",
        "[CV] max_features=sqrt, max_depth=5, min_samples_leaf=5 ..............\n",
        "[CV] ..... max_features=sqrt, max_depth=5, min_samples_leaf=5 -   3.1s"
       ]
      },
      {
       "output_type": "stream",
       "stream": "stdout",
       "text": [
        "\n",
        "[CV] max_features=sqrt, max_depth=5, min_samples_leaf=10 .............\n",
        "[CV] .... max_features=sqrt, max_depth=5, min_samples_leaf=10 -   3.2s"
       ]
      },
      {
       "output_type": "stream",
       "stream": "stdout",
       "text": [
        "\n",
        "[CV] max_features=sqrt, max_depth=5, min_samples_leaf=10 .............\n",
        "[CV] .... max_features=sqrt, max_depth=5, min_samples_leaf=10 -   3.5s"
       ]
      },
      {
       "output_type": "stream",
       "stream": "stdout",
       "text": [
        "\n",
        "[CV] max_features=sqrt, max_depth=5, min_samples_leaf=10 .............\n",
        "[CV] .... max_features=sqrt, max_depth=5, min_samples_leaf=10 -   3.7s"
       ]
      },
      {
       "output_type": "stream",
       "stream": "stdout",
       "text": [
        "\n",
        "[CV] max_features=sqrt, max_depth=5, min_samples_leaf=10 .............\n",
        "[CV] .... max_features=sqrt, max_depth=5, min_samples_leaf=10 -   3.7s"
       ]
      },
      {
       "output_type": "stream",
       "stream": "stdout",
       "text": [
        "\n",
        "[CV] max_features=sqrt, max_depth=5, min_samples_leaf=10 .............\n",
        "[CV] .... max_features=sqrt, max_depth=5, min_samples_leaf=10 -   3.6s"
       ]
      },
      {
       "output_type": "stream",
       "stream": "stdout",
       "text": [
        "\n",
        "[CV] max_features=sqrt, max_depth=5, min_samples_leaf=10 .............\n",
        "[CV] .... max_features=sqrt, max_depth=5, min_samples_leaf=10 -   5.9s"
       ]
      },
      {
       "output_type": "stream",
       "stream": "stdout",
       "text": [
        "\n",
        "[CV] max_features=sqrt, max_depth=5, min_samples_leaf=10 .............\n",
        "[CV] .... max_features=sqrt, max_depth=5, min_samples_leaf=10 -   4.6s"
       ]
      },
      {
       "output_type": "stream",
       "stream": "stdout",
       "text": [
        "\n",
        "[CV] max_features=sqrt, max_depth=5, min_samples_leaf=10 .............\n",
        "[CV] .... max_features=sqrt, max_depth=5, min_samples_leaf=10 -   4.0s"
       ]
      },
      {
       "output_type": "stream",
       "stream": "stdout",
       "text": [
        "\n",
        "[CV] max_features=sqrt, max_depth=5, min_samples_leaf=10 .............\n",
        "[CV] .... max_features=sqrt, max_depth=5, min_samples_leaf=10 -   3.0s"
       ]
      },
      {
       "output_type": "stream",
       "stream": "stdout",
       "text": [
        "\n",
        "[CV] max_features=sqrt, max_depth=5, min_samples_leaf=10 .............\n",
        "[CV] .... max_features=sqrt, max_depth=5, min_samples_leaf=10 -   2.6s"
       ]
      },
      {
       "output_type": "stream",
       "stream": "stdout",
       "text": [
        "\n",
        "[CV] max_features=log2, max_depth=5, min_samples_leaf=2 ..............\n",
        "[CV] ..... max_features=log2, max_depth=5, min_samples_leaf=2 -   3.1s"
       ]
      },
      {
       "output_type": "stream",
       "stream": "stdout",
       "text": [
        "\n",
        "[CV] max_features=log2, max_depth=5, min_samples_leaf=2 ..............\n",
        "[CV] ..... max_features=log2, max_depth=5, min_samples_leaf=2 -   3.3s"
       ]
      },
      {
       "output_type": "stream",
       "stream": "stdout",
       "text": [
        "\n",
        "[CV] max_features=log2, max_depth=5, min_samples_leaf=2 ..............\n",
        "[CV] ..... max_features=log2, max_depth=5, min_samples_leaf=2 -   3.1s"
       ]
      },
      {
       "output_type": "stream",
       "stream": "stdout",
       "text": [
        "\n",
        "[CV] max_features=log2, max_depth=5, min_samples_leaf=2 ..............\n",
        "[CV] ..... max_features=log2, max_depth=5, min_samples_leaf=2 -   2.8s"
       ]
      },
      {
       "output_type": "stream",
       "stream": "stdout",
       "text": [
        "\n",
        "[CV] max_features=log2, max_depth=5, min_samples_leaf=2 ..............\n",
        "[CV] ..... max_features=log2, max_depth=5, min_samples_leaf=2 -   2.8s"
       ]
      },
      {
       "output_type": "stream",
       "stream": "stdout",
       "text": [
        "\n",
        "[CV] max_features=log2, max_depth=5, min_samples_leaf=2 ..............\n",
        "[CV] ..... max_features=log2, max_depth=5, min_samples_leaf=2 -   2.9s"
       ]
      },
      {
       "output_type": "stream",
       "stream": "stdout",
       "text": [
        "\n",
        "[CV] max_features=log2, max_depth=5, min_samples_leaf=2 ..............\n",
        "[CV] ..... max_features=log2, max_depth=5, min_samples_leaf=2 -   2.8s"
       ]
      },
      {
       "output_type": "stream",
       "stream": "stdout",
       "text": [
        "\n",
        "[CV] max_features=log2, max_depth=5, min_samples_leaf=2 ..............\n",
        "[CV] ..... max_features=log2, max_depth=5, min_samples_leaf=2 -   2.8s"
       ]
      },
      {
       "output_type": "stream",
       "stream": "stdout",
       "text": [
        "\n",
        "[CV] max_features=log2, max_depth=5, min_samples_leaf=2 ..............\n",
        "[CV] ..... max_features=log2, max_depth=5, min_samples_leaf=2 -   2.9s"
       ]
      },
      {
       "output_type": "stream",
       "stream": "stdout",
       "text": [
        "\n",
        "[CV] max_features=log2, max_depth=5, min_samples_leaf=2 ..............\n",
        "[CV] ..... max_features=log2, max_depth=5, min_samples_leaf=2 -   3.3s"
       ]
      },
      {
       "output_type": "stream",
       "stream": "stdout",
       "text": [
        "\n",
        "[CV] max_features=log2, max_depth=5, min_samples_leaf=5 ..............\n",
        "[CV] ..... max_features=log2, max_depth=5, min_samples_leaf=5 -   2.7s"
       ]
      },
      {
       "output_type": "stream",
       "stream": "stderr",
       "text": [
        "[Parallel(n_jobs=1)]: Done   1 jobs       | elapsed:    2.9s\n",
        "[Parallel(n_jobs=1)]: Done  41 jobs       | elapsed:  2.3min\n"
       ]
      },
      {
       "output_type": "stream",
       "stream": "stdout",
       "text": [
        "\n",
        "[CV] max_features=log2, max_depth=5, min_samples_leaf=5 ..............\n",
        "[CV] ..... max_features=log2, max_depth=5, min_samples_leaf=5 -   2.8s"
       ]
      },
      {
       "output_type": "stream",
       "stream": "stdout",
       "text": [
        "\n",
        "[CV] max_features=log2, max_depth=5, min_samples_leaf=5 ..............\n",
        "[CV] ..... max_features=log2, max_depth=5, min_samples_leaf=5 -   2.8s"
       ]
      },
      {
       "output_type": "stream",
       "stream": "stdout",
       "text": [
        "\n",
        "[CV] max_features=log2, max_depth=5, min_samples_leaf=5 ..............\n",
        "[CV] ..... max_features=log2, max_depth=5, min_samples_leaf=5 -   3.3s"
       ]
      },
      {
       "output_type": "stream",
       "stream": "stdout",
       "text": [
        "\n",
        "[CV] max_features=log2, max_depth=5, min_samples_leaf=5 ..............\n",
        "[CV] ..... max_features=log2, max_depth=5, min_samples_leaf=5 -   4.1s"
       ]
      },
      {
       "output_type": "stream",
       "stream": "stdout",
       "text": [
        "\n",
        "[CV] max_features=log2, max_depth=5, min_samples_leaf=5 ..............\n",
        "[CV] ..... max_features=log2, max_depth=5, min_samples_leaf=5 -   3.3s"
       ]
      },
      {
       "output_type": "stream",
       "stream": "stdout",
       "text": [
        "\n",
        "[CV] max_features=log2, max_depth=5, min_samples_leaf=5 ..............\n",
        "[CV] ..... max_features=log2, max_depth=5, min_samples_leaf=5 -   3.3s"
       ]
      },
      {
       "output_type": "stream",
       "stream": "stdout",
       "text": [
        "\n",
        "[CV] max_features=log2, max_depth=5, min_samples_leaf=5 ..............\n",
        "[CV] ..... max_features=log2, max_depth=5, min_samples_leaf=5 -   3.3s"
       ]
      },
      {
       "output_type": "stream",
       "stream": "stdout",
       "text": [
        "\n",
        "[CV] max_features=log2, max_depth=5, min_samples_leaf=5 ..............\n",
        "[CV] ..... max_features=log2, max_depth=5, min_samples_leaf=5 -   3.0s"
       ]
      },
      {
       "output_type": "stream",
       "stream": "stdout",
       "text": [
        "\n",
        "[CV] max_features=log2, max_depth=5, min_samples_leaf=5 ..............\n",
        "[CV] ..... max_features=log2, max_depth=5, min_samples_leaf=5 -   3.3s"
       ]
      },
      {
       "output_type": "stream",
       "stream": "stdout",
       "text": [
        "\n",
        "[CV] max_features=log2, max_depth=5, min_samples_leaf=10 .............\n",
        "[CV] .... max_features=log2, max_depth=5, min_samples_leaf=10 -   3.8s"
       ]
      },
      {
       "output_type": "stream",
       "stream": "stdout",
       "text": [
        "\n",
        "[CV] max_features=log2, max_depth=5, min_samples_leaf=10 .............\n",
        "[CV] .... max_features=log2, max_depth=5, min_samples_leaf=10 -   4.1s"
       ]
      },
      {
       "output_type": "stream",
       "stream": "stdout",
       "text": [
        "\n",
        "[CV] max_features=log2, max_depth=5, min_samples_leaf=10 .............\n",
        "[CV] .... max_features=log2, max_depth=5, min_samples_leaf=10 -   3.4s"
       ]
      },
      {
       "output_type": "stream",
       "stream": "stdout",
       "text": [
        "\n",
        "[CV] max_features=log2, max_depth=5, min_samples_leaf=10 .............\n",
        "[CV] .... max_features=log2, max_depth=5, min_samples_leaf=10 -   3.8s"
       ]
      },
      {
       "output_type": "stream",
       "stream": "stdout",
       "text": [
        "\n",
        "[CV] max_features=log2, max_depth=5, min_samples_leaf=10 .............\n",
        "[CV] .... max_features=log2, max_depth=5, min_samples_leaf=10 -   3.1s"
       ]
      },
      {
       "output_type": "stream",
       "stream": "stdout",
       "text": [
        "\n",
        "[CV] max_features=log2, max_depth=5, min_samples_leaf=10 .............\n",
        "[CV] .... max_features=log2, max_depth=5, min_samples_leaf=10 -   3.1s"
       ]
      },
      {
       "output_type": "stream",
       "stream": "stdout",
       "text": [
        "\n",
        "[CV] max_features=log2, max_depth=5, min_samples_leaf=10 .............\n",
        "[CV] .... max_features=log2, max_depth=5, min_samples_leaf=10 -   3.0s"
       ]
      },
      {
       "output_type": "stream",
       "stream": "stdout",
       "text": [
        "\n",
        "[CV] max_features=log2, max_depth=5, min_samples_leaf=10 .............\n",
        "[CV] .... max_features=log2, max_depth=5, min_samples_leaf=10 -   3.1s"
       ]
      },
      {
       "output_type": "stream",
       "stream": "stdout",
       "text": [
        "\n",
        "[CV] max_features=log2, max_depth=5, min_samples_leaf=10 .............\n",
        "[CV] .... max_features=log2, max_depth=5, min_samples_leaf=10 -   2.8s"
       ]
      },
      {
       "output_type": "stream",
       "stream": "stdout",
       "text": [
        "\n",
        "[CV] max_features=log2, max_depth=5, min_samples_leaf=10 .............\n",
        "[CV] .... max_features=log2, max_depth=5, min_samples_leaf=10 -   3.4s"
       ]
      },
      {
       "output_type": "stream",
       "stream": "stdout",
       "text": [
        "\n",
        "[CV] max_features=auto, max_depth=5, min_samples_leaf=2 ..............\n",
        "[CV] ..... max_features=auto, max_depth=5, min_samples_leaf=2 -   5.8s"
       ]
      },
      {
       "output_type": "stream",
       "stream": "stdout",
       "text": [
        "\n",
        "[CV] max_features=auto, max_depth=5, min_samples_leaf=2 ..............\n",
        "[CV] ..... max_features=auto, max_depth=5, min_samples_leaf=2 -   5.5s"
       ]
      },
      {
       "output_type": "stream",
       "stream": "stdout",
       "text": [
        "\n",
        "[CV] max_features=auto, max_depth=5, min_samples_leaf=2 ..............\n",
        "[CV] ..... max_features=auto, max_depth=5, min_samples_leaf=2 -   6.6s"
       ]
      },
      {
       "output_type": "stream",
       "stream": "stdout",
       "text": [
        "\n",
        "[CV] max_features=auto, max_depth=5, min_samples_leaf=2 ..............\n",
        "[CV] ..... max_features=auto, max_depth=5, min_samples_leaf=2 -   6.2s"
       ]
      },
      {
       "output_type": "stream",
       "stream": "stdout",
       "text": [
        "\n",
        "[CV] max_features=auto, max_depth=5, min_samples_leaf=2 ..............\n",
        "[CV] ..... max_features=auto, max_depth=5, min_samples_leaf=2 -   5.3s"
       ]
      },
      {
       "output_type": "stream",
       "stream": "stdout",
       "text": [
        "\n",
        "[CV] max_features=auto, max_depth=5, min_samples_leaf=2 ..............\n",
        "[CV] ..... max_features=auto, max_depth=5, min_samples_leaf=2 -   5.3s"
       ]
      },
      {
       "output_type": "stream",
       "stream": "stdout",
       "text": [
        "\n",
        "[CV] max_features=auto, max_depth=5, min_samples_leaf=2 ..............\n",
        "[CV] ..... max_features=auto, max_depth=5, min_samples_leaf=2 -   5.1s"
       ]
      },
      {
       "output_type": "stream",
       "stream": "stdout",
       "text": [
        "\n",
        "[CV] max_features=auto, max_depth=5, min_samples_leaf=2 ..............\n",
        "[CV] ..... max_features=auto, max_depth=5, min_samples_leaf=2 -   5.0s"
       ]
      },
      {
       "output_type": "stream",
       "stream": "stdout",
       "text": [
        "\n",
        "[CV] max_features=auto, max_depth=5, min_samples_leaf=2 ..............\n",
        "[CV] ..... max_features=auto, max_depth=5, min_samples_leaf=2 -   5.1s"
       ]
      },
      {
       "output_type": "stream",
       "stream": "stdout",
       "text": [
        "\n",
        "[CV] max_features=auto, max_depth=5, min_samples_leaf=2 ..............\n",
        "[CV] ..... max_features=auto, max_depth=5, min_samples_leaf=2 -   4.6s"
       ]
      },
      {
       "output_type": "stream",
       "stream": "stdout",
       "text": [
        "\n",
        "[CV] max_features=auto, max_depth=5, min_samples_leaf=5 ..............\n",
        "[CV] ..... max_features=auto, max_depth=5, min_samples_leaf=5 -   4.0s"
       ]
      },
      {
       "output_type": "stream",
       "stream": "stdout",
       "text": [
        "\n",
        "[CV] max_features=auto, max_depth=5, min_samples_leaf=5 ..............\n",
        "[CV] ..... max_features=auto, max_depth=5, min_samples_leaf=5 -   4.3s"
       ]
      },
      {
       "output_type": "stream",
       "stream": "stdout",
       "text": [
        "\n",
        "[CV] max_features=auto, max_depth=5, min_samples_leaf=5 ..............\n",
        "[CV] ..... max_features=auto, max_depth=5, min_samples_leaf=5 -   4.3s"
       ]
      },
      {
       "output_type": "stream",
       "stream": "stdout",
       "text": [
        "\n",
        "[CV] max_features=auto, max_depth=5, min_samples_leaf=5 ..............\n",
        "[CV] ..... max_features=auto, max_depth=5, min_samples_leaf=5 -   5.6s"
       ]
      },
      {
       "output_type": "stream",
       "stream": "stdout",
       "text": [
        "\n",
        "[CV] max_features=auto, max_depth=5, min_samples_leaf=5 ..............\n",
        "[CV] ..... max_features=auto, max_depth=5, min_samples_leaf=5 -   5.3s"
       ]
      },
      {
       "output_type": "stream",
       "stream": "stdout",
       "text": [
        "\n",
        "[CV] max_features=auto, max_depth=5, min_samples_leaf=5 ..............\n",
        "[CV] ..... max_features=auto, max_depth=5, min_samples_leaf=5 -   5.4s"
       ]
      },
      {
       "output_type": "stream",
       "stream": "stdout",
       "text": [
        "\n",
        "[CV] max_features=auto, max_depth=5, min_samples_leaf=5 ..............\n",
        "[CV] ..... max_features=auto, max_depth=5, min_samples_leaf=5 -   5.0s"
       ]
      },
      {
       "output_type": "stream",
       "stream": "stdout",
       "text": [
        "\n",
        "[CV] max_features=auto, max_depth=5, min_samples_leaf=5 ..............\n",
        "[CV] ..... max_features=auto, max_depth=5, min_samples_leaf=5 -   5.4s"
       ]
      },
      {
       "output_type": "stream",
       "stream": "stdout",
       "text": [
        "\n",
        "[CV] max_features=auto, max_depth=5, min_samples_leaf=5 ..............\n",
        "[CV] ..... max_features=auto, max_depth=5, min_samples_leaf=5 -   4.9s"
       ]
      },
      {
       "output_type": "stream",
       "stream": "stdout",
       "text": [
        "\n",
        "[CV] max_features=auto, max_depth=5, min_samples_leaf=5 ..............\n",
        "[CV] ..... max_features=auto, max_depth=5, min_samples_leaf=5 -   4.9s"
       ]
      },
      {
       "output_type": "stream",
       "stream": "stdout",
       "text": [
        "\n",
        "[CV] max_features=auto, max_depth=5, min_samples_leaf=10 .............\n",
        "[CV] .... max_features=auto, max_depth=5, min_samples_leaf=10 -   4.8s"
       ]
      },
      {
       "output_type": "stream",
       "stream": "stdout",
       "text": [
        "\n",
        "[CV] max_features=auto, max_depth=5, min_samples_leaf=10 .............\n",
        "[CV] .... max_features=auto, max_depth=5, min_samples_leaf=10 -   4.4s"
       ]
      },
      {
       "output_type": "stream",
       "stream": "stdout",
       "text": [
        "\n",
        "[CV] max_features=auto, max_depth=5, min_samples_leaf=10 .............\n",
        "[CV] .... max_features=auto, max_depth=5, min_samples_leaf=10 -   4.3s"
       ]
      },
      {
       "output_type": "stream",
       "stream": "stdout",
       "text": [
        "\n",
        "[CV] max_features=auto, max_depth=5, min_samples_leaf=10 .............\n",
        "[CV] .... max_features=auto, max_depth=5, min_samples_leaf=10 -   4.0s"
       ]
      },
      {
       "output_type": "stream",
       "stream": "stdout",
       "text": [
        "\n",
        "[CV] max_features=auto, max_depth=5, min_samples_leaf=10 .............\n",
        "[CV] .... max_features=auto, max_depth=5, min_samples_leaf=10 -   4.0s"
       ]
      },
      {
       "output_type": "stream",
       "stream": "stdout",
       "text": [
        "\n",
        "[CV] max_features=auto, max_depth=5, min_samples_leaf=10 .............\n",
        "[CV] .... max_features=auto, max_depth=5, min_samples_leaf=10 -   4.2s"
       ]
      },
      {
       "output_type": "stream",
       "stream": "stdout",
       "text": [
        "\n",
        "[CV] max_features=auto, max_depth=5, min_samples_leaf=10 .............\n",
        "[CV] .... max_features=auto, max_depth=5, min_samples_leaf=10 -   4.2s"
       ]
      },
      {
       "output_type": "stream",
       "stream": "stdout",
       "text": [
        "\n",
        "[CV] max_features=auto, max_depth=5, min_samples_leaf=10 .............\n",
        "[CV] .... max_features=auto, max_depth=5, min_samples_leaf=10 -   4.0s"
       ]
      },
      {
       "output_type": "stream",
       "stream": "stdout",
       "text": [
        "\n",
        "[CV] max_features=auto, max_depth=5, min_samples_leaf=10 .............\n",
        "[CV] .... max_features=auto, max_depth=5, min_samples_leaf=10 -   4.2s"
       ]
      },
      {
       "output_type": "stream",
       "stream": "stdout",
       "text": [
        "\n",
        "[CV] max_features=auto, max_depth=5, min_samples_leaf=10 .............\n",
        "[CV] .... max_features=auto, max_depth=5, min_samples_leaf=10 -   4.4s"
       ]
      },
      {
       "output_type": "stream",
       "stream": "stdout",
       "text": [
        "\n",
        "[CV] max_features=sqrt, max_depth=8, min_samples_leaf=2 ..............\n",
        "[CV] ..... max_features=sqrt, max_depth=8, min_samples_leaf=2 -   3.8s"
       ]
      },
      {
       "output_type": "stream",
       "stream": "stdout",
       "text": [
        "\n",
        "[CV] max_features=sqrt, max_depth=8, min_samples_leaf=2 ..............\n",
        "[CV] ..... max_features=sqrt, max_depth=8, min_samples_leaf=2 -   3.4s"
       ]
      },
      {
       "output_type": "stream",
       "stream": "stdout",
       "text": [
        "\n",
        "[CV] max_features=sqrt, max_depth=8, min_samples_leaf=2 ..............\n",
        "[CV] ..... max_features=sqrt, max_depth=8, min_samples_leaf=2 -   3.7s"
       ]
      },
      {
       "output_type": "stream",
       "stream": "stdout",
       "text": [
        "\n",
        "[CV] max_features=sqrt, max_depth=8, min_samples_leaf=2 ..............\n",
        "[CV] ..... max_features=sqrt, max_depth=8, min_samples_leaf=2 -   3.6s"
       ]
      },
      {
       "output_type": "stream",
       "stream": "stdout",
       "text": [
        "\n",
        "[CV] max_features=sqrt, max_depth=8, min_samples_leaf=2 ..............\n",
        "[CV] ..... max_features=sqrt, max_depth=8, min_samples_leaf=2 -   3.7s"
       ]
      },
      {
       "output_type": "stream",
       "stream": "stdout",
       "text": [
        "\n",
        "[CV] max_features=sqrt, max_depth=8, min_samples_leaf=2 ..............\n",
        "[CV] ..... max_features=sqrt, max_depth=8, min_samples_leaf=2 -   3.6s"
       ]
      },
      {
       "output_type": "stream",
       "stream": "stdout",
       "text": [
        "\n",
        "[CV] max_features=sqrt, max_depth=8, min_samples_leaf=2 ..............\n",
        "[CV] ..... max_features=sqrt, max_depth=8, min_samples_leaf=2 -   3.8s"
       ]
      },
      {
       "output_type": "stream",
       "stream": "stdout",
       "text": [
        "\n",
        "[CV] max_features=sqrt, max_depth=8, min_samples_leaf=2 ..............\n",
        "[CV] ..... max_features=sqrt, max_depth=8, min_samples_leaf=2 -   3.6s"
       ]
      },
      {
       "output_type": "stream",
       "stream": "stdout",
       "text": [
        "\n",
        "[CV] max_features=sqrt, max_depth=8, min_samples_leaf=2 ..............\n",
        "[CV] ..... max_features=sqrt, max_depth=8, min_samples_leaf=2 -   3.6s"
       ]
      },
      {
       "output_type": "stream",
       "stream": "stdout",
       "text": [
        "\n",
        "[CV] max_features=sqrt, max_depth=8, min_samples_leaf=2 ..............\n",
        "[CV] ..... max_features=sqrt, max_depth=8, min_samples_leaf=2 -   3.6s"
       ]
      },
      {
       "output_type": "stream",
       "stream": "stdout",
       "text": [
        "\n",
        "[CV] max_features=sqrt, max_depth=8, min_samples_leaf=5 ..............\n",
        "[CV] ..... max_features=sqrt, max_depth=8, min_samples_leaf=5 -   3.5s"
       ]
      },
      {
       "output_type": "stream",
       "stream": "stdout",
       "text": [
        "\n",
        "[CV] max_features=sqrt, max_depth=8, min_samples_leaf=5 ..............\n",
        "[CV] ..... max_features=sqrt, max_depth=8, min_samples_leaf=5 -   3.2s"
       ]
      },
      {
       "output_type": "stream",
       "stream": "stdout",
       "text": [
        "\n",
        "[CV] max_features=sqrt, max_depth=8, min_samples_leaf=5 ..............\n",
        "[CV] ..... max_features=sqrt, max_depth=8, min_samples_leaf=5 -   3.3s"
       ]
      },
      {
       "output_type": "stream",
       "stream": "stdout",
       "text": [
        "\n",
        "[CV] max_features=sqrt, max_depth=8, min_samples_leaf=5 ..............\n",
        "[CV] ..... max_features=sqrt, max_depth=8, min_samples_leaf=5 -   3.5s"
       ]
      },
      {
       "output_type": "stream",
       "stream": "stdout",
       "text": [
        "\n",
        "[CV] max_features=sqrt, max_depth=8, min_samples_leaf=5 ..............\n",
        "[CV] ..... max_features=sqrt, max_depth=8, min_samples_leaf=5 -   3.6s"
       ]
      },
      {
       "output_type": "stream",
       "stream": "stdout",
       "text": [
        "\n",
        "[CV] max_features=sqrt, max_depth=8, min_samples_leaf=5 ..............\n",
        "[CV] ..... max_features=sqrt, max_depth=8, min_samples_leaf=5 -   3.2s"
       ]
      },
      {
       "output_type": "stream",
       "stream": "stdout",
       "text": [
        "\n",
        "[CV] max_features=sqrt, max_depth=8, min_samples_leaf=5 ..............\n",
        "[CV] ..... max_features=sqrt, max_depth=8, min_samples_leaf=5 -   3.6s"
       ]
      },
      {
       "output_type": "stream",
       "stream": "stdout",
       "text": [
        "\n",
        "[CV] max_features=sqrt, max_depth=8, min_samples_leaf=5 ..............\n",
        "[CV] ..... max_features=sqrt, max_depth=8, min_samples_leaf=5 -   3.4s"
       ]
      },
      {
       "output_type": "stream",
       "stream": "stdout",
       "text": [
        "\n",
        "[CV] max_features=sqrt, max_depth=8, min_samples_leaf=5 ..............\n",
        "[CV] ..... max_features=sqrt, max_depth=8, min_samples_leaf=5 -   3.5s"
       ]
      },
      {
       "output_type": "stream",
       "stream": "stdout",
       "text": [
        "\n",
        "[CV] max_features=sqrt, max_depth=8, min_samples_leaf=5 ..............\n",
        "[CV] ..... max_features=sqrt, max_depth=8, min_samples_leaf=5 -   3.4s"
       ]
      },
      {
       "output_type": "stream",
       "stream": "stdout",
       "text": [
        "\n",
        "[CV] max_features=sqrt, max_depth=8, min_samples_leaf=10 .............\n",
        "[CV] .... max_features=sqrt, max_depth=8, min_samples_leaf=10 -   3.3s"
       ]
      },
      {
       "output_type": "stream",
       "stream": "stdout",
       "text": [
        "\n",
        "[CV] max_features=sqrt, max_depth=8, min_samples_leaf=10 .............\n",
        "[CV] .... max_features=sqrt, max_depth=8, min_samples_leaf=10 -   3.2s"
       ]
      },
      {
       "output_type": "stream",
       "stream": "stdout",
       "text": [
        "\n",
        "[CV] max_features=sqrt, max_depth=8, min_samples_leaf=10 .............\n",
        "[CV] .... max_features=sqrt, max_depth=8, min_samples_leaf=10 -   3.2s"
       ]
      },
      {
       "output_type": "stream",
       "stream": "stdout",
       "text": [
        "\n",
        "[CV] max_features=sqrt, max_depth=8, min_samples_leaf=10 .............\n",
        "[CV] .... max_features=sqrt, max_depth=8, min_samples_leaf=10 -   3.1s"
       ]
      },
      {
       "output_type": "stream",
       "stream": "stdout",
       "text": [
        "\n",
        "[CV] max_features=sqrt, max_depth=8, min_samples_leaf=10 .............\n",
        "[CV] .... max_features=sqrt, max_depth=8, min_samples_leaf=10 -   3.3s"
       ]
      },
      {
       "output_type": "stream",
       "stream": "stdout",
       "text": [
        "\n",
        "[CV] max_features=sqrt, max_depth=8, min_samples_leaf=10 .............\n",
        "[CV] .... max_features=sqrt, max_depth=8, min_samples_leaf=10 -   3.1s"
       ]
      },
      {
       "output_type": "stream",
       "stream": "stdout",
       "text": [
        "\n",
        "[CV] max_features=sqrt, max_depth=8, min_samples_leaf=10 .............\n",
        "[CV] .... max_features=sqrt, max_depth=8, min_samples_leaf=10 -   3.2s"
       ]
      },
      {
       "output_type": "stream",
       "stream": "stdout",
       "text": [
        "\n",
        "[CV] max_features=sqrt, max_depth=8, min_samples_leaf=10 .............\n",
        "[CV] .... max_features=sqrt, max_depth=8, min_samples_leaf=10 -   2.9s"
       ]
      },
      {
       "output_type": "stream",
       "stream": "stdout",
       "text": [
        "\n",
        "[CV] max_features=sqrt, max_depth=8, min_samples_leaf=10 .............\n",
        "[CV] .... max_features=sqrt, max_depth=8, min_samples_leaf=10 -   3.1s"
       ]
      },
      {
       "output_type": "stream",
       "stream": "stdout",
       "text": [
        "\n",
        "[CV] max_features=sqrt, max_depth=8, min_samples_leaf=10 .............\n",
        "[CV] .... max_features=sqrt, max_depth=8, min_samples_leaf=10 -   3.4s"
       ]
      },
      {
       "output_type": "stream",
       "stream": "stdout",
       "text": [
        "\n",
        "[CV] max_features=log2, max_depth=8, min_samples_leaf=2 ..............\n",
        "[CV] ..... max_features=log2, max_depth=8, min_samples_leaf=2 -   3.6s"
       ]
      },
      {
       "output_type": "stream",
       "stream": "stdout",
       "text": [
        "\n",
        "[CV] max_features=log2, max_depth=8, min_samples_leaf=2 ..............\n",
        "[CV] ..... max_features=log2, max_depth=8, min_samples_leaf=2 -   3.7s"
       ]
      },
      {
       "output_type": "stream",
       "stream": "stdout",
       "text": [
        "\n",
        "[CV] max_features=log2, max_depth=8, min_samples_leaf=2 ..............\n",
        "[CV] ..... max_features=log2, max_depth=8, min_samples_leaf=2 -   3.3s"
       ]
      },
      {
       "output_type": "stream",
       "stream": "stdout",
       "text": [
        "\n",
        "[CV] max_features=log2, max_depth=8, min_samples_leaf=2 ..............\n",
        "[CV] ..... max_features=log2, max_depth=8, min_samples_leaf=2 -   3.5s"
       ]
      },
      {
       "output_type": "stream",
       "stream": "stdout",
       "text": [
        "\n",
        "[CV] max_features=log2, max_depth=8, min_samples_leaf=2 ..............\n",
        "[CV] ..... max_features=log2, max_depth=8, min_samples_leaf=2 -   3.3s"
       ]
      },
      {
       "output_type": "stream",
       "stream": "stdout",
       "text": [
        "\n",
        "[CV] max_features=log2, max_depth=8, min_samples_leaf=2 ..............\n",
        "[CV] ..... max_features=log2, max_depth=8, min_samples_leaf=2 -   3.0s"
       ]
      },
      {
       "output_type": "stream",
       "stream": "stdout",
       "text": [
        "\n",
        "[CV] max_features=log2, max_depth=8, min_samples_leaf=2 ..............\n",
        "[CV] ..... max_features=log2, max_depth=8, min_samples_leaf=2 -   3.7s"
       ]
      },
      {
       "output_type": "stream",
       "stream": "stdout",
       "text": [
        "\n",
        "[CV] max_features=log2, max_depth=8, min_samples_leaf=2 ..............\n",
        "[CV] ..... max_features=log2, max_depth=8, min_samples_leaf=2 -   3.9s"
       ]
      },
      {
       "output_type": "stream",
       "stream": "stdout",
       "text": [
        "\n",
        "[CV] max_features=log2, max_depth=8, min_samples_leaf=2 ..............\n",
        "[CV] ..... max_features=log2, max_depth=8, min_samples_leaf=2 -   4.1s"
       ]
      },
      {
       "output_type": "stream",
       "stream": "stdout",
       "text": [
        "\n",
        "[CV] max_features=log2, max_depth=8, min_samples_leaf=2 ..............\n",
        "[CV] ..... max_features=log2, max_depth=8, min_samples_leaf=2 -   3.5s"
       ]
      },
      {
       "output_type": "stream",
       "stream": "stdout",
       "text": [
        "\n",
        "[CV] max_features=log2, max_depth=8, min_samples_leaf=5 ..............\n",
        "[CV] ..... max_features=log2, max_depth=8, min_samples_leaf=5 -   2.9s"
       ]
      },
      {
       "output_type": "stream",
       "stream": "stdout",
       "text": [
        "\n",
        "[CV] max_features=log2, max_depth=8, min_samples_leaf=5 ..............\n",
        "[CV] ..... max_features=log2, max_depth=8, min_samples_leaf=5 -   2.6s"
       ]
      },
      {
       "output_type": "stream",
       "stream": "stdout",
       "text": [
        "\n",
        "[CV] max_features=log2, max_depth=8, min_samples_leaf=5 ..............\n",
        "[CV] ..... max_features=log2, max_depth=8, min_samples_leaf=5 -   2.8s"
       ]
      },
      {
       "output_type": "stream",
       "stream": "stdout",
       "text": [
        "\n",
        "[CV] max_features=log2, max_depth=8, min_samples_leaf=5 ..............\n",
        "[CV] ..... max_features=log2, max_depth=8, min_samples_leaf=5 -   2.9s"
       ]
      },
      {
       "output_type": "stream",
       "stream": "stdout",
       "text": [
        "\n",
        "[CV] max_features=log2, max_depth=8, min_samples_leaf=5 ..............\n",
        "[CV] ..... max_features=log2, max_depth=8, min_samples_leaf=5 -   3.5s"
       ]
      },
      {
       "output_type": "stream",
       "stream": "stdout",
       "text": [
        "\n",
        "[CV] max_features=log2, max_depth=8, min_samples_leaf=5 ..............\n",
        "[CV] ..... max_features=log2, max_depth=8, min_samples_leaf=5 -   3.7s"
       ]
      },
      {
       "output_type": "stream",
       "stream": "stdout",
       "text": [
        "\n",
        "[CV] max_features=log2, max_depth=8, min_samples_leaf=5 ..............\n",
        "[CV] ..... max_features=log2, max_depth=8, min_samples_leaf=5 -   3.4s"
       ]
      },
      {
       "output_type": "stream",
       "stream": "stdout",
       "text": [
        "\n",
        "[CV] max_features=log2, max_depth=8, min_samples_leaf=5 ..............\n",
        "[CV] ..... max_features=log2, max_depth=8, min_samples_leaf=5 -   3.5s"
       ]
      },
      {
       "output_type": "stream",
       "stream": "stdout",
       "text": [
        "\n",
        "[CV] max_features=log2, max_depth=8, min_samples_leaf=5 ..............\n",
        "[CV] ..... max_features=log2, max_depth=8, min_samples_leaf=5 -   3.5s"
       ]
      },
      {
       "output_type": "stream",
       "stream": "stdout",
       "text": [
        "\n",
        "[CV] max_features=log2, max_depth=8, min_samples_leaf=5 ..............\n",
        "[CV] ..... max_features=log2, max_depth=8, min_samples_leaf=5 -   3.3s"
       ]
      },
      {
       "output_type": "stream",
       "stream": "stdout",
       "text": [
        "\n",
        "[CV] max_features=log2, max_depth=8, min_samples_leaf=10 .............\n",
        "[CV] .... max_features=log2, max_depth=8, min_samples_leaf=10 -   3.0s"
       ]
      },
      {
       "output_type": "stream",
       "stream": "stdout",
       "text": [
        "\n",
        "[CV] max_features=log2, max_depth=8, min_samples_leaf=10 .............\n",
        "[CV] .... max_features=log2, max_depth=8, min_samples_leaf=10 -   3.1s"
       ]
      },
      {
       "output_type": "stream",
       "stream": "stdout",
       "text": [
        "\n",
        "[CV] max_features=log2, max_depth=8, min_samples_leaf=10 .............\n",
        "[CV] .... max_features=log2, max_depth=8, min_samples_leaf=10 -   2.7s"
       ]
      },
      {
       "output_type": "stream",
       "stream": "stdout",
       "text": [
        "\n",
        "[CV] max_features=log2, max_depth=8, min_samples_leaf=10 .............\n",
        "[CV] .... max_features=log2, max_depth=8, min_samples_leaf=10 -   2.7s"
       ]
      },
      {
       "output_type": "stream",
       "stream": "stdout",
       "text": [
        "\n",
        "[CV] max_features=log2, max_depth=8, min_samples_leaf=10 .............\n",
        "[CV] .... max_features=log2, max_depth=8, min_samples_leaf=10 -   2.6s"
       ]
      },
      {
       "output_type": "stream",
       "stream": "stdout",
       "text": [
        "\n",
        "[CV] max_features=log2, max_depth=8, min_samples_leaf=10 .............\n",
        "[CV] .... max_features=log2, max_depth=8, min_samples_leaf=10 -   3.0s"
       ]
      },
      {
       "output_type": "stream",
       "stream": "stdout",
       "text": [
        "\n",
        "[CV] max_features=log2, max_depth=8, min_samples_leaf=10 .............\n",
        "[CV] .... max_features=log2, max_depth=8, min_samples_leaf=10 -   2.6s"
       ]
      },
      {
       "output_type": "stream",
       "stream": "stdout",
       "text": [
        "\n",
        "[CV] max_features=log2, max_depth=8, min_samples_leaf=10 .............\n",
        "[CV] .... max_features=log2, max_depth=8, min_samples_leaf=10 -   3.0s"
       ]
      },
      {
       "output_type": "stream",
       "stream": "stdout",
       "text": [
        "\n",
        "[CV] max_features=log2, max_depth=8, min_samples_leaf=10 .............\n",
        "[CV] .... max_features=log2, max_depth=8, min_samples_leaf=10 -   3.4s"
       ]
      },
      {
       "output_type": "stream",
       "stream": "stdout",
       "text": [
        "\n",
        "[CV] max_features=log2, max_depth=8, min_samples_leaf=10 .............\n",
        "[CV] .... max_features=log2, max_depth=8, min_samples_leaf=10 -   3.3s"
       ]
      },
      {
       "output_type": "stream",
       "stream": "stdout",
       "text": [
        "\n",
        "[CV] max_features=auto, max_depth=8, min_samples_leaf=2 ..............\n",
        "[CV] ..... max_features=auto, max_depth=8, min_samples_leaf=2 -   6.1s"
       ]
      },
      {
       "output_type": "stream",
       "stream": "stdout",
       "text": [
        "\n",
        "[CV] max_features=auto, max_depth=8, min_samples_leaf=2 ..............\n",
        "[CV] ..... max_features=auto, max_depth=8, min_samples_leaf=2 -   5.9s"
       ]
      },
      {
       "output_type": "stream",
       "stream": "stdout",
       "text": [
        "\n",
        "[CV] max_features=auto, max_depth=8, min_samples_leaf=2 ..............\n",
        "[CV] ..... max_features=auto, max_depth=8, min_samples_leaf=2 -   5.9s"
       ]
      },
      {
       "output_type": "stream",
       "stream": "stdout",
       "text": [
        "\n",
        "[CV] max_features=auto, max_depth=8, min_samples_leaf=2 ..............\n",
        "[CV] ..... max_features=auto, max_depth=8, min_samples_leaf=2 -   6.0s"
       ]
      },
      {
       "output_type": "stream",
       "stream": "stdout",
       "text": [
        "\n",
        "[CV] max_features=auto, max_depth=8, min_samples_leaf=2 ..............\n",
        "[CV] ..... max_features=auto, max_depth=8, min_samples_leaf=2 -   5.6s"
       ]
      },
      {
       "output_type": "stream",
       "stream": "stdout",
       "text": [
        "\n",
        "[CV] max_features=auto, max_depth=8, min_samples_leaf=2 ..............\n",
        "[CV] ..... max_features=auto, max_depth=8, min_samples_leaf=2 -   5.4s"
       ]
      },
      {
       "output_type": "stream",
       "stream": "stdout",
       "text": [
        "\n",
        "[CV] max_features=auto, max_depth=8, min_samples_leaf=2 ..............\n",
        "[CV] ..... max_features=auto, max_depth=8, min_samples_leaf=2 -   5.3s"
       ]
      },
      {
       "output_type": "stream",
       "stream": "stdout",
       "text": [
        "\n",
        "[CV] max_features=auto, max_depth=8, min_samples_leaf=2 ..............\n",
        "[CV] ..... max_features=auto, max_depth=8, min_samples_leaf=2 -   5.8s"
       ]
      },
      {
       "output_type": "stream",
       "stream": "stdout",
       "text": [
        "\n",
        "[CV] max_features=auto, max_depth=8, min_samples_leaf=2 ..............\n",
        "[CV] ..... max_features=auto, max_depth=8, min_samples_leaf=2 -   5.7s"
       ]
      },
      {
       "output_type": "stream",
       "stream": "stdout",
       "text": [
        "\n",
        "[CV] max_features=auto, max_depth=8, min_samples_leaf=2 ..............\n",
        "[CV] ..... max_features=auto, max_depth=8, min_samples_leaf=2 -   5.4s"
       ]
      },
      {
       "output_type": "stream",
       "stream": "stdout",
       "text": [
        "\n",
        "[CV] max_features=auto, max_depth=8, min_samples_leaf=5 ..............\n",
        "[CV] ..... max_features=auto, max_depth=8, min_samples_leaf=5 -   4.2s"
       ]
      },
      {
       "output_type": "stream",
       "stream": "stdout",
       "text": [
        "\n",
        "[CV] max_features=auto, max_depth=8, min_samples_leaf=5 ..............\n",
        "[CV] ..... max_features=auto, max_depth=8, min_samples_leaf=5 -   4.3s"
       ]
      },
      {
       "output_type": "stream",
       "stream": "stdout",
       "text": [
        "\n",
        "[CV] max_features=auto, max_depth=8, min_samples_leaf=5 ..............\n",
        "[CV] ..... max_features=auto, max_depth=8, min_samples_leaf=5 -   4.5s"
       ]
      },
      {
       "output_type": "stream",
       "stream": "stdout",
       "text": [
        "\n",
        "[CV] max_features=auto, max_depth=8, min_samples_leaf=5 ..............\n",
        "[CV] ..... max_features=auto, max_depth=8, min_samples_leaf=5 -   4.4s"
       ]
      },
      {
       "output_type": "stream",
       "stream": "stdout",
       "text": [
        "\n",
        "[CV] max_features=auto, max_depth=8, min_samples_leaf=5 ..............\n",
        "[CV] ..... max_features=auto, max_depth=8, min_samples_leaf=5 -   4.4s"
       ]
      },
      {
       "output_type": "stream",
       "stream": "stdout",
       "text": [
        "\n",
        "[CV] max_features=auto, max_depth=8, min_samples_leaf=5 ..............\n",
        "[CV] ..... max_features=auto, max_depth=8, min_samples_leaf=5 -   4.5s"
       ]
      },
      {
       "output_type": "stream",
       "stream": "stdout",
       "text": [
        "\n",
        "[CV] max_features=auto, max_depth=8, min_samples_leaf=5 ..............\n",
        "[CV] ..... max_features=auto, max_depth=8, min_samples_leaf=5 -   4.1s"
       ]
      },
      {
       "output_type": "stream",
       "stream": "stdout",
       "text": [
        "\n",
        "[CV] max_features=auto, max_depth=8, min_samples_leaf=5 ..............\n",
        "[CV] ..... max_features=auto, max_depth=8, min_samples_leaf=5 -   4.4s"
       ]
      },
      {
       "output_type": "stream",
       "stream": "stdout",
       "text": [
        "\n",
        "[CV] max_features=auto, max_depth=8, min_samples_leaf=5 ..............\n",
        "[CV] ..... max_features=auto, max_depth=8, min_samples_leaf=5 -   4.1s"
       ]
      },
      {
       "output_type": "stream",
       "stream": "stdout",
       "text": [
        "\n",
        "[CV] max_features=auto, max_depth=8, min_samples_leaf=5 ..............\n",
        "[CV] ..... max_features=auto, max_depth=8, min_samples_leaf=5 -   4.3s"
       ]
      },
      {
       "output_type": "stream",
       "stream": "stdout",
       "text": [
        "\n",
        "[CV] max_features=auto, max_depth=8, min_samples_leaf=10 .............\n",
        "[CV] .... max_features=auto, max_depth=8, min_samples_leaf=10 -   3.6s"
       ]
      },
      {
       "output_type": "stream",
       "stream": "stdout",
       "text": [
        "\n",
        "[CV] max_features=auto, max_depth=8, min_samples_leaf=10 .............\n",
        "[CV] .... max_features=auto, max_depth=8, min_samples_leaf=10 -   3.8s"
       ]
      },
      {
       "output_type": "stream",
       "stream": "stdout",
       "text": [
        "\n",
        "[CV] max_features=auto, max_depth=8, min_samples_leaf=10 .............\n",
        "[CV] .... max_features=auto, max_depth=8, min_samples_leaf=10 -   3.6s"
       ]
      },
      {
       "output_type": "stream",
       "stream": "stdout",
       "text": [
        "\n",
        "[CV] max_features=auto, max_depth=8, min_samples_leaf=10 .............\n",
        "[CV] .... max_features=auto, max_depth=8, min_samples_leaf=10 -   3.7s"
       ]
      },
      {
       "output_type": "stream",
       "stream": "stdout",
       "text": [
        "\n",
        "[CV] max_features=auto, max_depth=8, min_samples_leaf=10 .............\n",
        "[CV] .... max_features=auto, max_depth=8, min_samples_leaf=10 -   3.4s"
       ]
      },
      {
       "output_type": "stream",
       "stream": "stdout",
       "text": [
        "\n",
        "[CV] max_features=auto, max_depth=8, min_samples_leaf=10 .............\n",
        "[CV] .... max_features=auto, max_depth=8, min_samples_leaf=10 -   3.8s"
       ]
      },
      {
       "output_type": "stream",
       "stream": "stdout",
       "text": [
        "\n",
        "[CV] max_features=auto, max_depth=8, min_samples_leaf=10 .............\n",
        "[CV] .... max_features=auto, max_depth=8, min_samples_leaf=10 -   3.6s"
       ]
      },
      {
       "output_type": "stream",
       "stream": "stdout",
       "text": [
        "\n",
        "[CV] max_features=auto, max_depth=8, min_samples_leaf=10 .............\n",
        "[CV] .... max_features=auto, max_depth=8, min_samples_leaf=10 -   3.4s"
       ]
      },
      {
       "output_type": "stream",
       "stream": "stdout",
       "text": [
        "\n",
        "[CV] max_features=auto, max_depth=8, min_samples_leaf=10 .............\n",
        "[CV] .... max_features=auto, max_depth=8, min_samples_leaf=10 -   3.4s"
       ]
      },
      {
       "output_type": "stream",
       "stream": "stdout",
       "text": [
        "\n",
        "[CV] max_features=auto, max_depth=8, min_samples_leaf=10 .............\n",
        "[CV] .... max_features=auto, max_depth=8, min_samples_leaf=10 -   3.5s"
       ]
      },
      {
       "output_type": "stream",
       "stream": "stdout",
       "text": [
        "\n",
        "[CV] max_features=sqrt, max_depth=12, min_samples_leaf=2 .............\n",
        "[CV] .... max_features=sqrt, max_depth=12, min_samples_leaf=2 -   2.9s"
       ]
      },
      {
       "output_type": "stream",
       "stream": "stdout",
       "text": [
        "\n",
        "[CV] max_features=sqrt, max_depth=12, min_samples_leaf=2 .............\n",
        "[CV] .... max_features=sqrt, max_depth=12, min_samples_leaf=2 -   2.9s"
       ]
      },
      {
       "output_type": "stream",
       "stream": "stdout",
       "text": [
        "\n",
        "[CV] max_features=sqrt, max_depth=12, min_samples_leaf=2 .............\n",
        "[CV] .... max_features=sqrt, max_depth=12, min_samples_leaf=2 -   2.9s"
       ]
      },
      {
       "output_type": "stream",
       "stream": "stdout",
       "text": [
        "\n",
        "[CV] max_features=sqrt, max_depth=12, min_samples_leaf=2 .............\n",
        "[CV] .... max_features=sqrt, max_depth=12, min_samples_leaf=2 -   2.9s"
       ]
      },
      {
       "output_type": "stream",
       "stream": "stdout",
       "text": [
        "\n",
        "[CV] max_features=sqrt, max_depth=12, min_samples_leaf=2 .............\n",
        "[CV] .... max_features=sqrt, max_depth=12, min_samples_leaf=2 -   3.1s"
       ]
      },
      {
       "output_type": "stream",
       "stream": "stdout",
       "text": [
        "\n",
        "[CV] max_features=sqrt, max_depth=12, min_samples_leaf=2 .............\n",
        "[CV] .... max_features=sqrt, max_depth=12, min_samples_leaf=2 -   3.1s"
       ]
      },
      {
       "output_type": "stream",
       "stream": "stdout",
       "text": [
        "\n",
        "[CV] max_features=sqrt, max_depth=12, min_samples_leaf=2 .............\n",
        "[CV] .... max_features=sqrt, max_depth=12, min_samples_leaf=2 -   3.0s"
       ]
      },
      {
       "output_type": "stream",
       "stream": "stdout",
       "text": [
        "\n",
        "[CV] max_features=sqrt, max_depth=12, min_samples_leaf=2 .............\n",
        "[CV] .... max_features=sqrt, max_depth=12, min_samples_leaf=2 -   3.2s"
       ]
      },
      {
       "output_type": "stream",
       "stream": "stdout",
       "text": [
        "\n",
        "[CV] max_features=sqrt, max_depth=12, min_samples_leaf=2 .............\n",
        "[CV] .... max_features=sqrt, max_depth=12, min_samples_leaf=2 -   2.9s"
       ]
      },
      {
       "output_type": "stream",
       "stream": "stdout",
       "text": [
        "\n",
        "[CV] max_features=sqrt, max_depth=12, min_samples_leaf=2 .............\n",
        "[CV] .... max_features=sqrt, max_depth=12, min_samples_leaf=2 -   3.0s"
       ]
      },
      {
       "output_type": "stream",
       "stream": "stdout",
       "text": [
        "\n",
        "[CV] max_features=sqrt, max_depth=12, min_samples_leaf=5 .............\n",
        "[CV] .... max_features=sqrt, max_depth=12, min_samples_leaf=5 -   2.8s"
       ]
      },
      {
       "output_type": "stream",
       "stream": "stdout",
       "text": [
        "\n",
        "[CV] max_features=sqrt, max_depth=12, min_samples_leaf=5 .............\n",
        "[CV] .... max_features=sqrt, max_depth=12, min_samples_leaf=5 -   2.8s"
       ]
      },
      {
       "output_type": "stream",
       "stream": "stdout",
       "text": [
        "\n",
        "[CV] max_features=sqrt, max_depth=12, min_samples_leaf=5 .............\n",
        "[CV] .... max_features=sqrt, max_depth=12, min_samples_leaf=5 -   2.6s"
       ]
      },
      {
       "output_type": "stream",
       "stream": "stdout",
       "text": [
        "\n",
        "[CV] max_features=sqrt, max_depth=12, min_samples_leaf=5 .............\n",
        "[CV] .... max_features=sqrt, max_depth=12, min_samples_leaf=5 -   2.8s"
       ]
      },
      {
       "output_type": "stream",
       "stream": "stdout",
       "text": [
        "\n",
        "[CV] max_features=sqrt, max_depth=12, min_samples_leaf=5 .............\n",
        "[CV] .... max_features=sqrt, max_depth=12, min_samples_leaf=5 -   2.8s"
       ]
      },
      {
       "output_type": "stream",
       "stream": "stdout",
       "text": [
        "\n",
        "[CV] max_features=sqrt, max_depth=12, min_samples_leaf=5 .............\n",
        "[CV] .... max_features=sqrt, max_depth=12, min_samples_leaf=5 -   2.7s"
       ]
      },
      {
       "output_type": "stream",
       "stream": "stdout",
       "text": [
        "\n",
        "[CV] max_features=sqrt, max_depth=12, min_samples_leaf=5 .............\n",
        "[CV] .... max_features=sqrt, max_depth=12, min_samples_leaf=5 -   2.9s"
       ]
      },
      {
       "output_type": "stream",
       "stream": "stdout",
       "text": [
        "\n",
        "[CV] max_features=sqrt, max_depth=12, min_samples_leaf=5 .............\n",
        "[CV] .... max_features=sqrt, max_depth=12, min_samples_leaf=5 -   8.9s"
       ]
      },
      {
       "output_type": "stream",
       "stream": "stdout",
       "text": [
        "\n",
        "[CV] max_features=sqrt, max_depth=12, min_samples_leaf=5 .............\n",
        "[CV] .... max_features=sqrt, max_depth=12, min_samples_leaf=5 -   2.7s"
       ]
      },
      {
       "output_type": "stream",
       "stream": "stdout",
       "text": [
        "\n",
        "[CV] max_features=sqrt, max_depth=12, min_samples_leaf=5 .............\n",
        "[CV] .... max_features=sqrt, max_depth=12, min_samples_leaf=5 -   2.7s"
       ]
      },
      {
       "output_type": "stream",
       "stream": "stdout",
       "text": [
        "\n",
        "[CV] max_features=sqrt, max_depth=12, min_samples_leaf=10 ............\n",
        "[CV] ... max_features=sqrt, max_depth=12, min_samples_leaf=10 -   2.7s"
       ]
      },
      {
       "output_type": "stream",
       "stream": "stdout",
       "text": [
        "\n",
        "[CV] max_features=sqrt, max_depth=12, min_samples_leaf=10 ............\n",
        "[CV] ... max_features=sqrt, max_depth=12, min_samples_leaf=10 -   2.7s"
       ]
      },
      {
       "output_type": "stream",
       "stream": "stdout",
       "text": [
        "\n",
        "[CV] max_features=sqrt, max_depth=12, min_samples_leaf=10 ............\n",
        "[CV] ... max_features=sqrt, max_depth=12, min_samples_leaf=10 -   3.0s"
       ]
      },
      {
       "output_type": "stream",
       "stream": "stdout",
       "text": [
        "\n",
        "[CV] max_features=sqrt, max_depth=12, min_samples_leaf=10 ............\n",
        "[CV] ... max_features=sqrt, max_depth=12, min_samples_leaf=10 -   3.2s"
       ]
      },
      {
       "output_type": "stream",
       "stream": "stdout",
       "text": [
        "\n",
        "[CV] max_features=sqrt, max_depth=12, min_samples_leaf=10 ............\n",
        "[CV] ... max_features=sqrt, max_depth=12, min_samples_leaf=10 -   3.0s"
       ]
      },
      {
       "output_type": "stream",
       "stream": "stdout",
       "text": [
        "\n",
        "[CV] max_features=sqrt, max_depth=12, min_samples_leaf=10 ............\n",
        "[CV] ... max_features=sqrt, max_depth=12, min_samples_leaf=10 -   3.0s"
       ]
      },
      {
       "output_type": "stream",
       "stream": "stdout",
       "text": [
        "\n",
        "[CV] max_features=sqrt, max_depth=12, min_samples_leaf=10 ............\n",
        "[CV] ... max_features=sqrt, max_depth=12, min_samples_leaf=10 -   2.7s"
       ]
      },
      {
       "output_type": "stream",
       "stream": "stdout",
       "text": [
        "\n",
        "[CV] max_features=sqrt, max_depth=12, min_samples_leaf=10 ............\n",
        "[CV] ... max_features=sqrt, max_depth=12, min_samples_leaf=10 -   2.4s"
       ]
      },
      {
       "output_type": "stream",
       "stream": "stdout",
       "text": [
        "\n",
        "[CV] max_features=sqrt, max_depth=12, min_samples_leaf=10 ............\n",
        "[CV] ... max_features=sqrt, max_depth=12, min_samples_leaf=10 -   2.5s"
       ]
      },
      {
       "output_type": "stream",
       "stream": "stdout",
       "text": [
        "\n",
        "[CV] max_features=sqrt, max_depth=12, min_samples_leaf=10 ............\n",
        "[CV] ... max_features=sqrt, max_depth=12, min_samples_leaf=10 -   2.4s"
       ]
      },
      {
       "output_type": "stream",
       "stream": "stdout",
       "text": [
        "\n",
        "[CV] max_features=log2, max_depth=12, min_samples_leaf=2 .............\n",
        "[CV] .... max_features=log2, max_depth=12, min_samples_leaf=2 -   2.9s"
       ]
      },
      {
       "output_type": "stream",
       "stream": "stdout",
       "text": [
        "\n",
        "[CV] max_features=log2, max_depth=12, min_samples_leaf=2 .............\n",
        "[CV] .... max_features=log2, max_depth=12, min_samples_leaf=2 -   3.0s"
       ]
      },
      {
       "output_type": "stream",
       "stream": "stdout",
       "text": [
        "\n",
        "[CV] max_features=log2, max_depth=12, min_samples_leaf=2 .............\n",
        "[CV] .... max_features=log2, max_depth=12, min_samples_leaf=2 -   3.1s"
       ]
      },
      {
       "output_type": "stream",
       "stream": "stdout",
       "text": [
        "\n",
        "[CV] max_features=log2, max_depth=12, min_samples_leaf=2 .............\n",
        "[CV] .... max_features=log2, max_depth=12, min_samples_leaf=2 -   3.0s"
       ]
      },
      {
       "output_type": "stream",
       "stream": "stdout",
       "text": [
        "\n",
        "[CV] max_features=log2, max_depth=12, min_samples_leaf=2 .............\n",
        "[CV] .... max_features=log2, max_depth=12, min_samples_leaf=2 -   3.1s"
       ]
      },
      {
       "output_type": "stream",
       "stream": "stdout",
       "text": [
        "\n",
        "[CV] max_features=log2, max_depth=12, min_samples_leaf=2 .............\n",
        "[CV] .... max_features=log2, max_depth=12, min_samples_leaf=2 -   3.0s"
       ]
      },
      {
       "output_type": "stream",
       "stream": "stdout",
       "text": [
        "\n",
        "[CV] max_features=log2, max_depth=12, min_samples_leaf=2 .............\n",
        "[CV] .... max_features=log2, max_depth=12, min_samples_leaf=2 -   3.0s"
       ]
      },
      {
       "output_type": "stream",
       "stream": "stdout",
       "text": [
        "\n",
        "[CV] max_features=log2, max_depth=12, min_samples_leaf=2 .............\n",
        "[CV] .... max_features=log2, max_depth=12, min_samples_leaf=2 -   3.1s"
       ]
      },
      {
       "output_type": "stream",
       "stream": "stdout",
       "text": [
        "\n",
        "[CV] max_features=log2, max_depth=12, min_samples_leaf=2 .............\n",
        "[CV] .... max_features=log2, max_depth=12, min_samples_leaf=2 -   3.1s"
       ]
      },
      {
       "output_type": "stream",
       "stream": "stdout",
       "text": [
        "\n",
        "[CV] max_features=log2, max_depth=12, min_samples_leaf=2 .............\n",
        "[CV] .... max_features=log2, max_depth=12, min_samples_leaf=2 -   2.9s"
       ]
      },
      {
       "output_type": "stream",
       "stream": "stdout",
       "text": [
        "\n",
        "[CV] max_features=log2, max_depth=12, min_samples_leaf=5 .............\n",
        "[CV] .... max_features=log2, max_depth=12, min_samples_leaf=5 -   2.6s"
       ]
      },
      {
       "output_type": "stream",
       "stream": "stdout",
       "text": [
        "\n",
        "[CV] max_features=log2, max_depth=12, min_samples_leaf=5 .............\n",
        "[CV] .... max_features=log2, max_depth=12, min_samples_leaf=5 -   2.7s"
       ]
      },
      {
       "output_type": "stream",
       "stream": "stdout",
       "text": [
        "\n",
        "[CV] max_features=log2, max_depth=12, min_samples_leaf=5 .............\n",
        "[CV] .... max_features=log2, max_depth=12, min_samples_leaf=5 -   2.6s"
       ]
      },
      {
       "output_type": "stream",
       "stream": "stdout",
       "text": [
        "\n",
        "[CV] max_features=log2, max_depth=12, min_samples_leaf=5 .............\n",
        "[CV] .... max_features=log2, max_depth=12, min_samples_leaf=5 -   2.6s"
       ]
      },
      {
       "output_type": "stream",
       "stream": "stdout",
       "text": [
        "\n",
        "[CV] max_features=log2, max_depth=12, min_samples_leaf=5 .............\n",
        "[CV] .... max_features=log2, max_depth=12, min_samples_leaf=5 -   2.7s"
       ]
      },
      {
       "output_type": "stream",
       "stream": "stdout",
       "text": [
        "\n",
        "[CV] max_features=log2, max_depth=12, min_samples_leaf=5 .............\n",
        "[CV] .... max_features=log2, max_depth=12, min_samples_leaf=5 -   2.9s"
       ]
      },
      {
       "output_type": "stream",
       "stream": "stdout",
       "text": [
        "\n",
        "[CV] max_features=log2, max_depth=12, min_samples_leaf=5 .............\n",
        "[CV] .... max_features=log2, max_depth=12, min_samples_leaf=5 -   2.6s"
       ]
      },
      {
       "output_type": "stream",
       "stream": "stdout",
       "text": [
        "\n",
        "[CV] max_features=log2, max_depth=12, min_samples_leaf=5 .............\n",
        "[CV] .... max_features=log2, max_depth=12, min_samples_leaf=5 -   2.6s"
       ]
      },
      {
       "output_type": "stream",
       "stream": "stdout",
       "text": [
        "\n",
        "[CV] max_features=log2, max_depth=12, min_samples_leaf=5 .............\n",
        "[CV] .... max_features=log2, max_depth=12, min_samples_leaf=5 -   2.6s"
       ]
      },
      {
       "output_type": "stream",
       "stream": "stdout",
       "text": [
        "\n",
        "[CV] max_features=log2, max_depth=12, min_samples_leaf=5 .............\n",
        "[CV] .... max_features=log2, max_depth=12, min_samples_leaf=5 -   2.7s"
       ]
      },
      {
       "output_type": "stream",
       "stream": "stdout",
       "text": [
        "\n",
        "[CV] max_features=log2, max_depth=12, min_samples_leaf=10 ............\n",
        "[CV] ... max_features=log2, max_depth=12, min_samples_leaf=10 -   2.5s"
       ]
      },
      {
       "output_type": "stream",
       "stream": "stdout",
       "text": [
        "\n",
        "[CV] max_features=log2, max_depth=12, min_samples_leaf=10 ............\n",
        "[CV] ... max_features=log2, max_depth=12, min_samples_leaf=10 -   2.5s"
       ]
      },
      {
       "output_type": "stream",
       "stream": "stdout",
       "text": [
        "\n",
        "[CV] max_features=log2, max_depth=12, min_samples_leaf=10 ............\n",
        "[CV] ... max_features=log2, max_depth=12, min_samples_leaf=10 -   2.4s"
       ]
      },
      {
       "output_type": "stream",
       "stream": "stdout",
       "text": [
        "\n",
        "[CV] max_features=log2, max_depth=12, min_samples_leaf=10 ............\n",
        "[CV] ... max_features=log2, max_depth=12, min_samples_leaf=10 -   2.5s"
       ]
      },
      {
       "output_type": "stream",
       "stream": "stdout",
       "text": [
        "\n",
        "[CV] max_features=log2, max_depth=12, min_samples_leaf=10 ............\n",
        "[CV] ... max_features=log2, max_depth=12, min_samples_leaf=10 -   2.5s"
       ]
      },
      {
       "output_type": "stream",
       "stream": "stdout",
       "text": [
        "\n",
        "[CV] max_features=log2, max_depth=12, min_samples_leaf=10 ............\n",
        "[CV] ... max_features=log2, max_depth=12, min_samples_leaf=10 -   2.5s"
       ]
      },
      {
       "output_type": "stream",
       "stream": "stdout",
       "text": [
        "\n",
        "[CV] max_features=log2, max_depth=12, min_samples_leaf=10 ............\n",
        "[CV] ... max_features=log2, max_depth=12, min_samples_leaf=10 -   2.7s"
       ]
      },
      {
       "output_type": "stream",
       "stream": "stdout",
       "text": [
        "\n",
        "[CV] max_features=log2, max_depth=12, min_samples_leaf=10 ............\n",
        "[CV] ... max_features=log2, max_depth=12, min_samples_leaf=10 -   2.8s"
       ]
      },
      {
       "output_type": "stream",
       "stream": "stdout",
       "text": [
        "\n",
        "[CV] max_features=log2, max_depth=12, min_samples_leaf=10 ............\n",
        "[CV] ... max_features=log2, max_depth=12, min_samples_leaf=10 -   2.8s"
       ]
      },
      {
       "output_type": "stream",
       "stream": "stdout",
       "text": [
        "\n",
        "[CV] max_features=log2, max_depth=12, min_samples_leaf=10 ............\n",
        "[CV] ... max_features=log2, max_depth=12, min_samples_leaf=10 -   2.7s"
       ]
      },
      {
       "output_type": "stream",
       "stream": "stdout",
       "text": [
        "\n",
        "[CV] max_features=auto, max_depth=12, min_samples_leaf=2 .............\n",
        "[CV] .... max_features=auto, max_depth=12, min_samples_leaf=2 -   5.5s"
       ]
      },
      {
       "output_type": "stream",
       "stream": "stdout",
       "text": [
        "\n",
        "[CV] max_features=auto, max_depth=12, min_samples_leaf=2 .............\n",
        "[CV] .... max_features=auto, max_depth=12, min_samples_leaf=2 -   5.4s"
       ]
      },
      {
       "output_type": "stream",
       "stream": "stdout",
       "text": [
        "\n",
        "[CV] max_features=auto, max_depth=12, min_samples_leaf=2 .............\n",
        "[CV] .... max_features=auto, max_depth=12, min_samples_leaf=2 -   5.5s"
       ]
      },
      {
       "output_type": "stream",
       "stream": "stdout",
       "text": [
        "\n",
        "[CV] max_features=auto, max_depth=12, min_samples_leaf=2 .............\n",
        "[CV] .... max_features=auto, max_depth=12, min_samples_leaf=2 -   5.4s"
       ]
      },
      {
       "output_type": "stream",
       "stream": "stdout",
       "text": [
        "\n",
        "[CV] max_features=auto, max_depth=12, min_samples_leaf=2 .............\n",
        "[CV] .... max_features=auto, max_depth=12, min_samples_leaf=2 -   5.5s"
       ]
      },
      {
       "output_type": "stream",
       "stream": "stdout",
       "text": [
        "\n",
        "[CV] max_features=auto, max_depth=12, min_samples_leaf=2 .............\n",
        "[CV] .... max_features=auto, max_depth=12, min_samples_leaf=2 -   5.4s"
       ]
      },
      {
       "output_type": "stream",
       "stream": "stdout",
       "text": [
        "\n",
        "[CV] max_features=auto, max_depth=12, min_samples_leaf=2 .............\n",
        "[CV] .... max_features=auto, max_depth=12, min_samples_leaf=2 -   5.5s"
       ]
      },
      {
       "output_type": "stream",
       "stream": "stdout",
       "text": [
        "\n",
        "[CV] max_features=auto, max_depth=12, min_samples_leaf=2 .............\n",
        "[CV] .... max_features=auto, max_depth=12, min_samples_leaf=2 -   5.3s"
       ]
      },
      {
       "output_type": "stream",
       "stream": "stdout",
       "text": [
        "\n",
        "[CV] max_features=auto, max_depth=12, min_samples_leaf=2 .............\n",
        "[CV] .... max_features=auto, max_depth=12, min_samples_leaf=2 -   5.5s"
       ]
      },
      {
       "output_type": "stream",
       "stream": "stdout",
       "text": [
        "\n",
        "[CV] max_features=auto, max_depth=12, min_samples_leaf=2 .............\n",
        "[CV] .... max_features=auto, max_depth=12, min_samples_leaf=2 -   6.1s"
       ]
      },
      {
       "output_type": "stream",
       "stream": "stdout",
       "text": [
        "\n",
        "[CV] max_features=auto, max_depth=12, min_samples_leaf=5 .............\n",
        "[CV] .... max_features=auto, max_depth=12, min_samples_leaf=5 -   4.9s"
       ]
      },
      {
       "output_type": "stream",
       "stream": "stdout",
       "text": [
        "\n",
        "[CV] max_features=auto, max_depth=12, min_samples_leaf=5 .............\n",
        "[CV] .... max_features=auto, max_depth=12, min_samples_leaf=5 -   4.1s"
       ]
      },
      {
       "output_type": "stream",
       "stream": "stdout",
       "text": [
        "\n",
        "[CV] max_features=auto, max_depth=12, min_samples_leaf=5 .............\n",
        "[CV] .... max_features=auto, max_depth=12, min_samples_leaf=5 -   4.2s"
       ]
      },
      {
       "output_type": "stream",
       "stream": "stdout",
       "text": [
        "\n",
        "[CV] max_features=auto, max_depth=12, min_samples_leaf=5 .............\n",
        "[CV] .... max_features=auto, max_depth=12, min_samples_leaf=5 -   4.2s"
       ]
      },
      {
       "output_type": "stream",
       "stream": "stdout",
       "text": [
        "\n",
        "[CV] max_features=auto, max_depth=12, min_samples_leaf=5 .............\n",
        "[CV] .... max_features=auto, max_depth=12, min_samples_leaf=5 -   4.2s"
       ]
      },
      {
       "output_type": "stream",
       "stream": "stdout",
       "text": [
        "\n",
        "[CV] max_features=auto, max_depth=12, min_samples_leaf=5 .............\n",
        "[CV] .... max_features=auto, max_depth=12, min_samples_leaf=5 -   4.6s"
       ]
      },
      {
       "output_type": "stream",
       "stream": "stdout",
       "text": [
        "\n",
        "[CV] max_features=auto, max_depth=12, min_samples_leaf=5 .............\n",
        "[CV] .... max_features=auto, max_depth=12, min_samples_leaf=5 -   4.2s"
       ]
      },
      {
       "output_type": "stream",
       "stream": "stdout",
       "text": [
        "\n",
        "[CV] max_features=auto, max_depth=12, min_samples_leaf=5 .............\n",
        "[CV] .... max_features=auto, max_depth=12, min_samples_leaf=5 -   4.1s"
       ]
      },
      {
       "output_type": "stream",
       "stream": "stdout",
       "text": [
        "\n",
        "[CV] max_features=auto, max_depth=12, min_samples_leaf=5 .............\n",
        "[CV] .... max_features=auto, max_depth=12, min_samples_leaf=5 -   4.2s"
       ]
      },
      {
       "output_type": "stream",
       "stream": "stdout",
       "text": [
        "\n",
        "[CV] max_features=auto, max_depth=12, min_samples_leaf=5 .............\n",
        "[CV] .... max_features=auto, max_depth=12, min_samples_leaf=5 -   4.1s"
       ]
      },
      {
       "output_type": "stream",
       "stream": "stdout",
       "text": [
        "\n",
        "[CV] max_features=auto, max_depth=12, min_samples_leaf=10 ............\n",
        "[CV] ... max_features=auto, max_depth=12, min_samples_leaf=10 -   3.6s"
       ]
      },
      {
       "output_type": "stream",
       "stream": "stdout",
       "text": [
        "\n",
        "[CV] max_features=auto, max_depth=12, min_samples_leaf=10 ............\n",
        "[CV] ... max_features=auto, max_depth=12, min_samples_leaf=10 -   3.9s"
       ]
      },
      {
       "output_type": "stream",
       "stream": "stdout",
       "text": [
        "\n",
        "[CV] max_features=auto, max_depth=12, min_samples_leaf=10 ............\n",
        "[CV] ... max_features=auto, max_depth=12, min_samples_leaf=10 -   3.6s"
       ]
      },
      {
       "output_type": "stream",
       "stream": "stdout",
       "text": [
        "\n",
        "[CV] max_features=auto, max_depth=12, min_samples_leaf=10 ............\n",
        "[CV] ... max_features=auto, max_depth=12, min_samples_leaf=10 -   3.4s"
       ]
      },
      {
       "output_type": "stream",
       "stream": "stdout",
       "text": [
        "\n",
        "[CV] max_features=auto, max_depth=12, min_samples_leaf=10 ............\n",
        "[CV] ... max_features=auto, max_depth=12, min_samples_leaf=10 -   3.5s"
       ]
      },
      {
       "output_type": "stream",
       "stream": "stdout",
       "text": [
        "\n",
        "[CV] max_features=auto, max_depth=12, min_samples_leaf=10 ............\n",
        "[CV] ... max_features=auto, max_depth=12, min_samples_leaf=10 -   3.4s"
       ]
      },
      {
       "output_type": "stream",
       "stream": "stdout",
       "text": [
        "\n",
        "[CV] max_features=auto, max_depth=12, min_samples_leaf=10 ............\n",
        "[CV] ... max_features=auto, max_depth=12, min_samples_leaf=10 -   3.5s"
       ]
      },
      {
       "output_type": "stream",
       "stream": "stdout",
       "text": [
        "\n",
        "[CV] max_features=auto, max_depth=12, min_samples_leaf=10 ............\n",
        "[CV] ... max_features=auto, max_depth=12, min_samples_leaf=10 -   3.5s"
       ]
      },
      {
       "output_type": "stream",
       "stream": "stdout",
       "text": [
        "\n",
        "[CV] max_features=auto, max_depth=12, min_samples_leaf=10 ............\n",
        "[CV] ... max_features=auto, max_depth=12, min_samples_leaf=10 -   3.4s"
       ]
      },
      {
       "output_type": "stream",
       "stream": "stdout",
       "text": [
        "\n",
        "[CV] max_features=auto, max_depth=12, min_samples_leaf=10 ............\n",
        "[CV] ... max_features=auto, max_depth=12, min_samples_leaf=10 -   3.4s"
       ]
      },
      {
       "output_type": "stream",
       "stream": "stderr",
       "text": [
        "[Parallel(n_jobs=1)]: Done 162 jobs       | elapsed: 10.4min\n",
        "[Parallel(n_jobs=1)]: Done 270 out of 270 | elapsed: 16.9min finished\n"
       ]
      },
      {
       "output_type": "stream",
       "stream": "stdout",
       "text": [
        "\n"
       ]
      }
     ],
     "prompt_number": 13
    },
    {
     "cell_type": "code",
     "collapsed": false,
     "input": [
      "print 'Best Parameters:'\n",
      "print rf.best_estimator_\n"
     ],
     "language": "python",
     "metadata": {},
     "outputs": [
      {
       "output_type": "stream",
       "stream": "stdout",
       "text": [
        "Best Parameters:\n",
        "RandomForestRegressor(bootstrap=True, compute_importances=None,\n",
        "           criterion='mse', max_depth=8, max_features='auto',\n",
        "           max_leaf_nodes=None, min_density=None, min_samples_leaf=2,\n",
        "           min_samples_split=2, n_estimators=1000, n_jobs=1,\n",
        "           oob_score=False, random_state=None, verbose=0)\n"
       ]
      }
     ],
     "prompt_number": 14
    },
    {
     "cell_type": "code",
     "collapsed": false,
     "input": [
      "rf_op = RandomForestRegressor(bootstrap=True, compute_importances=None,\n",
      "           criterion='mse', max_depth=8, max_features='auto',\n",
      "           max_leaf_nodes=None, min_density=None, min_samples_leaf=2,\n",
      "           min_samples_split=2, n_estimators=1000, n_jobs=1,\n",
      "           oob_score=False, random_state=None, verbose=0)\n",
      "rf_op.fit(x_train, y_train)\n",
      "preds = rf_op.predict(x_test)\n",
      "s = cross_validation.cross_val_score(rf_op, x, y, cv=10)\n",
      "print s\n",
      "print np.mean(s)"
     ],
     "language": "python",
     "metadata": {},
     "outputs": [
      {
       "output_type": "stream",
       "stream": "stdout",
       "text": [
        "[ 0.40289305  0.69089066  0.83071857  0.84616094  0.36506815  0.78403178\n",
        "  0.56602935  0.64407496  0.60316951  0.66249516]\n",
        "0.639553212216\n"
       ]
      }
     ],
     "prompt_number": 15
    },
    {
     "cell_type": "code",
     "collapsed": false,
     "input": [],
     "language": "python",
     "metadata": {},
     "outputs": [],
     "prompt_number": 9
    },
    {
     "cell_type": "code",
     "collapsed": false,
     "input": [
      "from pylab import pcolor, show, colorbar, xticks, yticks\n",
      "import matplotlib.pyplot as plt\n",
      "plt.scatter(preds, y_test)\n",
      "plt.title(\"Random Forest Model Prediction\")\n",
      "plt.ylabel(\"Actual Rental Counts\")\n",
      "plt.xlabel(\"Predicted Rental Counts\")\n",
      "plt.xlim(0, 1000)\n",
      "plt.ylim(0, 1000)"
     ],
     "language": "python",
     "metadata": {},
     "outputs": [
      {
       "metadata": {},
       "output_type": "pyout",
       "prompt_number": 16,
       "text": [
        "(0, 1000)"
       ]
      },
      {
       "metadata": {},
       "output_type": "display_data",
       "png": "[encoded data removed]",
       "text": [
        "<matplotlib.figure.Figure at 0x15e5b2d0>"
       ]
      }
     ],
     "prompt_number": 16
    },
    {
     "cell_type": "code",
     "collapsed": false,
     "input": [
      "\n",
      "print \"Root Mean Squared Logarithmic Error Train: \", rmsele(rf_op.predict(x_train), y_train)\n",
      "print \"Root Mean Squared Logarithmic Error Test: \", rmsele(rf_op.predict(x_test), y_test)\n",
      "print \"Training accuracy: %0.2f%%\" % (100*rf_op.score(x_train, y_train))\n",
      "print \"Test accuracy: %0.2f%%\" % (100*rf_op.score(x_test, y_test)) + \"\\n\""
     ],
     "language": "python",
     "metadata": {},
     "outputs": [
      {
       "output_type": "stream",
       "stream": "stdout",
       "text": [
        "Root Mean Squared Logarithmic Error Train:  "
       ]
      },
      {
       "output_type": "stream",
       "stream": "stdout",
       "text": [
        "0.161752897624\n",
        "Root Mean Squared Logarithmic Error Test:  "
       ]
      },
      {
       "output_type": "stream",
       "stream": "stdout",
       "text": [
        "0.236922762314\n",
        "Training accuracy: 94.34%"
       ]
      },
      {
       "output_type": "stream",
       "stream": "stdout",
       "text": [
        "\n",
        "Test accuracy: 67.05%\n"
       ]
      },
      {
       "output_type": "stream",
       "stream": "stdout",
       "text": [
        "\n"
       ]
      }
     ],
     "prompt_number": 17
    },
    {
     "cell_type": "code",
     "collapsed": false,
     "input": [
      "\n",
      "features = [\"Max_Temperature_F\",\"Mean_Temperature_F\",\"Min_TemperatureF\",\"Max_Dew_Point_F\",\"MeanDew_Point_F\",\"Min_Dewpoint_F\",\"Max_Humidity\",\"Mean_Humidity \",\"Min_Humidity \",\"Max_Sea_Level_Pressure_In \",\"Mean_Sea_Level_Pressure_In \",\"Min_Sea_Level_Pressure_In \",\"Max_Visibility_Miles \",\"Mean_Visibility_Miles \",\"Min_Visibility_Miles \",\"Max_Wind_Speed_MPH \",\"Mean_Wind_Speed_MPH \",\"Max_Gust_Speed_MPH\",\"Precipitation_In \",\"Cloud_Cover\", \"Weekend\" ]\n",
      "features=np.array(features)\n",
      "numfeat = len(features)\n",
      "indices = np.argsort(rf_op.feature_importances_)[::-1][:numfeat]\n",
      "#print features[indices]\n",
      "plt.bar(xrange(numfeat), rf_op.feature_importances_[indices], align='center', alpha=.5)\n",
      "plt.xticks(xrange(numfeat), features[indices], rotation='vertical', fontsize=12)\n",
      "plt.xlim([-1, numfeat])\n",
      "plt.ylabel('Feature percentages', fontsize=12)\n",
      "plt.title('Feature importances computed by Random Forest', fontsize=16)\n",
      "plt.show()\n"
     ],
     "language": "python",
     "metadata": {},
     "outputs": [
      {
       "metadata": {},
       "output_type": "display_data",
       "png": "[encoded data removed]",
       "text": [
        "<matplotlib.figure.Figure at 0x15ef30b0>"
       ]
      }
     ],
     "prompt_number": 18
    },
    {
     "cell_type": "code",
     "collapsed": false,
     "input": [
      "feature_weights=zip(features, rf_op.feature_importances_)\n",
      "feature_weights=sorted(feature_weights, key=lambda x: x[1], reverse=True)\n",
      "for i, j in feature_weights:\n",
      "    print i, j"
     ],
     "language": "python",
     "metadata": {},
     "outputs": [
      {
       "output_type": "stream",
       "stream": "stdout",
       "text": [
        "Weekend 0.556711772424\n",
        "Mean_Temperature_F 0.07807201088\n",
        "Max_Temperature_F 0.0559901258003\n",
        "Precipitation_In  0.0554860354954\n",
        "Mean_Wind_Speed_MPH  0.0368783092026\n",
        "Min_Dewpoint_F 0.0263502654581\n",
        "Cloud_Cover 0.0241583724722\n",
        "Max_Wind_Speed_MPH  0.0222084855824\n",
        "Min_TemperatureF 0.0198320141553\n",
        "Max_Dew_Point_F 0.0184014282628\n",
        "Max_Humidity 0.0139412153115\n",
        "Mean_Humidity  0.0133567411596\n",
        "Min_Sea_Level_Pressure_In  0.0116268282937\n",
        "MeanDew_Point_F 0.01120910745\n",
        "Min_Visibility_Miles  0.0107270173313\n",
        "Min_Humidity  0.0106526755058\n",
        "Max_Sea_Level_Pressure_In  0.010560423569\n",
        "Mean_Sea_Level_Pressure_In  0.00945332149276\n",
        "Max_Gust_Speed_MPH 0.00881663614649\n",
        "Mean_Visibility_Miles  0.00556721400703\n",
        "Max_Visibility_Miles  0.0\n"
       ]
      }
     ],
     "prompt_number": 19
    },
    {
     "cell_type": "code",
     "collapsed": false,
     "input": [],
     "language": "python",
     "metadata": {},
     "outputs": []
    }
   ],
   "metadata": {}
  }
 ]
}
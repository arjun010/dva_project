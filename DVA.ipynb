{
 "metadata": {
  "name": "DVA"
 },
 "nbformat": 3,
 "nbformat_minor": 0,
 "worksheets": [
  {
   "cells": [
    {
     "cell_type": "code",
     "collapsed": false,
     "input": "import datetime as dt\nimport numpy as np\nimport csv\n\nfrom sklearn.linear_model import LogisticRegression,LinearRegression\nfrom sklearn import cross_validation\n\nzips = {'94107':\"SF\", '94063':'Red', '94301': 'Palo Alto', '94041': 'MV', '95113' : 'SJ'}\n\ndef getDate(date, format=\"%m/%d/%Y %H:%M\"):\n\treturn dt.datetime.strptime(date, format).strftime(\"%Y-%m-%d\")  #\"4/8/2015 14:13\"\n\nstations = {}\nwith open('201402_station_data.csv', 'rb') as csvfile:\n\treader = csv.DictReader(csvfile, delimiter=',')\n\tfor row in reader:\n\t\tstations[row['name']] = row\n\nweather = {'94107':{}, '94063':{}, '94301': {}, '94041': {}, '95113' : {}}\nwith open('201402_weather_data.csv', 'rb') as csvfile:\n\treader = csv.DictReader(csvfile, delimiter=',')\n\tfor row in reader:\n\t\tdate = getDate(row['Date'], \"%m/%d/%Y\")\n\t\tweather[row['zip']][date] = row\n\nprint len(weather['94107'])\n# raw_input()\n\ntrips = {'94107':{}, '94063':{}, '94301': {}, '94041': {}, '95113' : {}}\ntrips = {}\ntwoDays = {}\nwith open('201402_trip_data.csv', 'rb') as csvfile:\n\treader = csv.DictReader(csvfile, delimiter=',')\n\tfor row in reader:\n\t\tif getDate(row['Start Date']) != getDate(row['End Date']):\n\t\t\ttwoDays[row['Trip ID']] = row\n\t\telse:\n\t\t\ttrips[row['Trip ID']] = row\n\nprint len(twoDays), len(trips)\n# raw_input()\n\nsumTrips = {'94107':{}, '94063':{}, '94301': {}, '94041': {}, '95113' : {}}\nfor values in trips.itervalues():\n\tzipcode = stations[values['Start Station']]['zip']\n\tstdate = getDate(values['Start Date'])\n\t# print stdate.date()\n\t# raw_input()\n\tif stdate not in sumTrips[zipcode]:\n\t\tsumTrips[zipcode][stdate] = 1\n\telse:\n\t\tsumTrips[zipcode][stdate] += 1\n\nprint len(sumTrips['94107'])\n\n",
     "language": "python",
     "metadata": {},
     "outputs": [
      {
       "output_type": "stream",
       "stream": "stdout",
       "text": "184\n593"
      },
      {
       "output_type": "stream",
       "stream": "stdout",
       "text": " 143422\n184"
      },
      {
       "output_type": "stream",
       "stream": "stdout",
       "text": "\n"
      }
     ],
     "prompt_number": 2
    },
    {
     "cell_type": "code",
     "collapsed": false,
     "input": "def getDay(date, format='%Y-%m-%d'):\n    return dt.datetime.strptime(date, format).weekday()\n\ndef isWeekend(date):\n    day = getDay(date)\n    if day>4:\n        return 1\n    else:\n        return 0\n\ndef getWeatherList(d):\n    l = []\n    # 'Cloud_Cover ', 'Mean_Wind_Speed_MPH ', 'Mean_Visibility_Miles '\n    features = ['Mean_Temperature_F', 'Mean_Humidity ']\n    for f in features:\n        l.append(float(d[f]))\n    return l\n\ndef getFeatures():\n    x, y = [], []\n    for date, n in sumTrips['94107'].iteritems():\n        features = []\n        wdic = weather['94107'][date]\n        features.extend(getWeatherList(wdic))\n        features.append(isWeekend(date))\n        # features.append(stations[t['Start Station']]['station_id'])\n        # features.append(stations[t['End Station']]['station_id'])\n        x.append(features)\n        y.append(n)\n    return np.array(x), np.array(y)\n\n\nx, y = getFeatures()\nprint x.shape, y.shape\n# print x, y\ns = cross_validation.cross_val_score(LinearRegression(), x, y, cv=4)\nprint s\nprint np.mean(s)",
     "language": "python",
     "metadata": {},
     "outputs": [
      {
       "output_type": "stream",
       "stream": "stdout",
       "text": "(184, 3) (184,)\n[ 0.33733674  0.60684977  0.54181567  0.51596112]\n0.500490825919\n"
      }
     ],
     "prompt_number": 3
    },
    {
     "cell_type": "code",
     "collapsed": false,
     "input": "dates = sumTrips['95113'].keys()\nzl = zips.keys()\n# for d in dates:\n#     for z in zl:\n#         print weather[z][d]\n#     raw_input()",
     "language": "python",
     "metadata": {},
     "outputs": [],
     "prompt_number": 5
    },
    {
     "cell_type": "markdown",
     "metadata": {},
     "source": "Average usage of bikes in each zip code, for every day of the week, starting from Monday to Sunday. Weekend is usage is clearly lower in SJ, SF and MV"
    },
    {
     "cell_type": "code",
     "collapsed": false,
     "input": "sortedDates = sorted(sumTrips['95113'].keys(), key=lambda x: dt.datetime.strptime(x,'%Y-%m-%d'))\n\nfor z in zl:\n    print \"\\n\\nZip -\", z, zips[z]\n    arr = [[],[],[],[],[],[],[]]\n    for i in sortedDates:\n        day = getDay(i,'%Y-%m-%d')\n        tripsByArea = sumTrips[z]\n        if i in tripsByArea:\n            arr[day].append(tripsByArea[i])\n    for a in arr:\n        print np.mean(a), '\\t',",
     "language": "python",
     "metadata": {},
     "outputs": [
      {
       "output_type": "stream",
       "stream": "stdout",
       "text": "\n\nZip - 95113 SJ\n51.3461538462 \t54.2692307692 \t56.2307692308 \t59.0740740741 \t54.7407407407 \t30.8846153846 \t29.4615384615 \t\n\nZip - 94301 Palo Alto\n8.15384615385 \t9.80769230769 \t8.73076923077 \t9.0 \t9.11111111111 \t10.6 \t9.08 \t\n\nZip - 94063 Red\n4.83333333333 \t5.96153846154 \t5.13043478261 \t4.76 \t5.84615384615 \t3.45 \t3.46153846154 \t\n\nZip - 94107 SF\n804.538461538 \t859.038461538 \t821.538461538 \t843.222222222 \t808.555555556 \t421.5 \t356.576923077 \t\n\nZip - 94041 MV\n18.5 \t17.2307692308 \t16.5769230769 \t17.3333333333 \t16.6296296296 \t7.69230769231 \t8.2 \t"
      }
     ],
     "prompt_number": 9
    },
    {
     "cell_type": "code",
     "collapsed": false,
     "input": "",
     "language": "python",
     "metadata": {},
     "outputs": []
    }
   ],
   "metadata": {}
  }
 ]
}